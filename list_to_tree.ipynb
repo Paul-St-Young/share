{
 "cells": [
  {
   "cell_type": "code",
   "execution_count": 1,
   "metadata": {
    "collapsed": true
   },
   "outputs": [],
   "source": [
    "input_ = '''dir/file\n",
    "dir/dir2/file2\n",
    "dir/file3\n",
    "dir2/alpha/beta/gamma/delta\n",
    "dir2/alpha/beta/gamma/delta/\n",
    "dir3/file4\n",
    "dir3/file5'''"
   ]
  },
  {
   "cell_type": "code",
   "execution_count": 2,
   "metadata": {
    "collapsed": true
   },
   "outputs": [],
   "source": [
    "import pandas as pd"
   ]
  },
  {
   "cell_type": "code",
   "execution_count": 9,
   "metadata": {
    "collapsed": false
   },
   "outputs": [],
   "source": [
    "in1 = input_.split(\"\\n\")\n",
    "in2 = [x.split(\"/\") for x in in1]"
   ]
  },
  {
   "cell_type": "code",
   "execution_count": 10,
   "metadata": {
    "collapsed": false
   },
   "outputs": [
    {
     "data": {
      "text/plain": [
       "[['dir', 'file'],\n",
       " ['dir', 'dir2', 'file2'],\n",
       " ['dir', 'file3'],\n",
       " ['dir2', 'alpha', 'beta', 'gamma', 'delta'],\n",
       " ['dir2', 'alpha', 'beta', 'gamma', 'delta', ''],\n",
       " ['dir3', 'file4'],\n",
       " ['dir3', 'file5']]"
      ]
     },
     "execution_count": 10,
     "metadata": {},
     "output_type": "execute_result"
    }
   ],
   "source": [
    "in2"
   ]
  },
  {
   "cell_type": "code",
   "execution_count": 12,
   "metadata": {
    "collapsed": false
   },
   "outputs": [],
   "source": [
    "df = pd.DataFrame.from_dict( in2 )"
   ]
  },
  {
   "cell_type": "code",
   "execution_count": 24,
   "metadata": {
    "collapsed": false
   },
   "outputs": [
    {
     "data": {
      "text/html": [
       "<div style=\"max-height:1000px;max-width:1500px;overflow:auto;\">\n",
       "<table border=\"1\" class=\"dataframe\">\n",
       "  <thead>\n",
       "    <tr style=\"text-align: right;\">\n",
       "      <th></th>\n",
       "      <th>0</th>\n",
       "      <th>1</th>\n",
       "      <th>2</th>\n",
       "      <th>3</th>\n",
       "      <th>4</th>\n",
       "      <th>5</th>\n",
       "    </tr>\n",
       "  </thead>\n",
       "  <tbody>\n",
       "    <tr>\n",
       "      <th>0</th>\n",
       "      <td>  dir</td>\n",
       "      <td>  file</td>\n",
       "      <td>  None</td>\n",
       "      <td>  None</td>\n",
       "      <td>  None</td>\n",
       "      <td> None</td>\n",
       "    </tr>\n",
       "    <tr>\n",
       "      <th>1</th>\n",
       "      <td>  dir</td>\n",
       "      <td>  dir2</td>\n",
       "      <td> file2</td>\n",
       "      <td>  None</td>\n",
       "      <td>  None</td>\n",
       "      <td> None</td>\n",
       "    </tr>\n",
       "    <tr>\n",
       "      <th>2</th>\n",
       "      <td>  dir</td>\n",
       "      <td> file3</td>\n",
       "      <td>  None</td>\n",
       "      <td>  None</td>\n",
       "      <td>  None</td>\n",
       "      <td> None</td>\n",
       "    </tr>\n",
       "    <tr>\n",
       "      <th>3</th>\n",
       "      <td> dir2</td>\n",
       "      <td> alpha</td>\n",
       "      <td>  beta</td>\n",
       "      <td> gamma</td>\n",
       "      <td> delta</td>\n",
       "      <td> None</td>\n",
       "    </tr>\n",
       "    <tr>\n",
       "      <th>4</th>\n",
       "      <td> dir2</td>\n",
       "      <td> alpha</td>\n",
       "      <td>  beta</td>\n",
       "      <td> gamma</td>\n",
       "      <td> delta</td>\n",
       "      <td>     </td>\n",
       "    </tr>\n",
       "    <tr>\n",
       "      <th>5</th>\n",
       "      <td> dir3</td>\n",
       "      <td> file4</td>\n",
       "      <td>  None</td>\n",
       "      <td>  None</td>\n",
       "      <td>  None</td>\n",
       "      <td> None</td>\n",
       "    </tr>\n",
       "    <tr>\n",
       "      <th>6</th>\n",
       "      <td> dir3</td>\n",
       "      <td> file5</td>\n",
       "      <td>  None</td>\n",
       "      <td>  None</td>\n",
       "      <td>  None</td>\n",
       "      <td> None</td>\n",
       "    </tr>\n",
       "  </tbody>\n",
       "</table>\n",
       "<p>7 rows × 6 columns</p>\n",
       "</div>"
      ],
      "text/plain": [
       "      0      1      2      3      4     5\n",
       "0   dir   file   None   None   None  None\n",
       "1   dir   dir2  file2   None   None  None\n",
       "2   dir  file3   None   None   None  None\n",
       "3  dir2  alpha   beta  gamma  delta  None\n",
       "4  dir2  alpha   beta  gamma  delta      \n",
       "5  dir3  file4   None   None   None  None\n",
       "6  dir3  file5   None   None   None  None\n",
       "\n",
       "[7 rows x 6 columns]"
      ]
     },
     "execution_count": 24,
     "metadata": {},
     "output_type": "execute_result"
    }
   ],
   "source": [
    "df.sort()"
   ]
  },
  {
   "cell_type": "code",
   "execution_count": 111,
   "metadata": {
    "collapsed": true
   },
   "outputs": [],
   "source": [
    "def print_branches(thisdf,tab_level=0,tab_width=2,max_tab_level=6):\n",
    "    max_tab_level = thisdf.shape[1]-1 # number of columns - 1\n",
    "    if tab_level >= max_tab_level: return # sanity check\n",
    "    \n",
    "    # grab top level directories\n",
    "    top_level = thisdf[tab_level].unique()\n",
    "    for branch in top_level:\n",
    "        \n",
    "        if len( thisdf.apply(str) != \"None\" ) <= 0:\n",
    "            return # if directory is empty, otherwise recurse\n",
    "        # end if\n",
    "        \n",
    "        # print directory content\n",
    "        if str(branch) != \"None\":\n",
    "            print \"\".join([\" \"]*tab_width*tab_level),branch\n",
    "        # end if\n",
    "        \n",
    "        # recurse\n",
    "        try:\n",
    "            mydf = thisdf[thisdf[tab_level]==branch]\n",
    "        except KeyError: \n",
    "            return\n",
    "        # end try\n",
    "        \n",
    "        print_branches(mydf,tab_level+1)\n",
    "    # end for branch\n",
    "# end def print_branches"
   ]
  },
  {
   "cell_type": "code",
   "execution_count": 112,
   "metadata": {
    "collapsed": false
   },
   "outputs": [
    {
     "name": "stdout",
     "output_type": "stream",
     "text": [
      " dir\n",
      "   file\n",
      "   dir2\n",
      "     file2\n",
      "   file3\n",
      " dir2\n",
      "   alpha\n",
      "     beta\n",
      "       gamma\n",
      "         delta\n",
      " dir3\n",
      "   file4\n",
      "   file5\n"
     ]
    }
   ],
   "source": [
    "print_branches(df)"
   ]
  }
 ],
 "metadata": {
  "kernelspec": {
   "display_name": "Python 2",
   "language": "python",
   "name": "python2"
  },
  "language_info": {
   "codemirror_mode": {
    "name": "ipython",
    "version": 2
   },
   "file_extension": ".py",
   "mimetype": "text/x-python",
   "name": "python",
   "nbconvert_exporter": "python",
   "pygments_lexer": "ipython2",
   "version": "2.7.6"
  }
 },
 "nbformat": 4,
 "nbformat_minor": 0
}
