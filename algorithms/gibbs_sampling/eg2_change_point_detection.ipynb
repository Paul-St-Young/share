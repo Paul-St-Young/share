{
 "cells": [
  {
   "cell_type": "code",
   "execution_count": 8,
   "metadata": {
    "collapsed": true
   },
   "outputs": [],
   "source": [
    "import numpy as np\n",
    "from numpy.random import rand,randn,randint,poisson,gamma,multinomial\n",
    "from scipy.special import factorial\n",
    "import matplotlib.pyplot as plt\n",
    "%matplotlib inline"
   ]
  },
  {
   "cell_type": "code",
   "execution_count": 77,
   "metadata": {
    "collapsed": true
   },
   "outputs": [],
   "source": [
    "def corr(trace):\n",
    "    \"\"\" calculate the autocorrelation of a trace of scalar data\n",
    "    pre:  trace should be a 1D iterable array of floating point numbers\n",
    "    post: return the autocorrelation of this trace of scalars\n",
    "    \"\"\"\n",
    "\n",
    "    mu     = np.mean(trace)\n",
    "    stddev = np.std(trace,ddof=1)\n",
    "\n",
    "    correlation_time = 0.\n",
    "    for k in range(1,len(trace)):\n",
    "        # calculate auto_correlation\n",
    "        auto_correlation = 0.0\n",
    "        num = len(trace)-k\n",
    "        for i in range(num):\n",
    "            auto_correlation += (trace[i]-mu)*(trace[i+k]-mu)\n",
    "        # end for i\n",
    "        auto_correlation *= 1.0/(num*stddev**2)\n",
    "        if auto_correlation > 0:\n",
    "            correlation_time += auto_correlation\n",
    "        else:\n",
    "            break\n",
    "        # end if\n",
    "    # end for k\n",
    "\n",
    "    correlation_time = 1.0 + 2.0*correlation_time\n",
    "    return correlation_time\n",
    "\n",
    "# end def corr\n",
    "\n",
    "def error(trace):\n",
    "    \"\"\" calculate the standard error of a trace of scalar data\n",
    "    for uncorrelated data, this should match np.std(trace)/np.sqrt(len(trace))\n",
    "    pre:  trace should be a 1D iterable array of floating point numbers\n",
    "    post: return the standard error of this trace of scalars \n",
    "    \"\"\"\n",
    "\n",
    "    # calculate standard error\n",
    "    return np.std(trace,ddof=1)/np.sqrt(len(trace)/corr(trace))\n",
    "\n",
    "# end def error"
   ]
  },
  {
   "cell_type": "code",
   "execution_count": 50,
   "metadata": {
    "collapsed": false
   },
   "outputs": [
    {
     "name": "stdout",
     "output_type": "stream",
     "text": [
      "28 5.11350788519 1.22436931535\n"
     ]
    }
   ],
   "source": [
    "# seed RNG for reproducibility\n",
    "seed = 9\n",
    "np.random.seed(seed)\n",
    "\n",
    "# generate data\n",
    "N=50\n",
    "a=2\n",
    "b=1\n",
    "true_n = randint(N)\n",
    "true_lam1 = gamma(a,1./b)\n",
    "true_lam2 = gamma(a,1./b)\n",
    "x = np.concatenate( [poisson(true_lam1,true_n)\n",
    "                   , poisson(true_lam2,N-true_n)] )\n",
    "print true_n, true_lam1,true_lam2"
   ]
  },
  {
   "cell_type": "code",
   "execution_count": 97,
   "metadata": {
    "collapsed": false
   },
   "outputs": [
    {
     "data": {
      "image/png": "[encoded data removed]",
      "text/plain": [
       "<matplotlib.figure.Figure at 0x7f74f3c29990>"
      ]
     },
     "metadata": {},
     "output_type": "display_data"
    }
   ],
   "source": [
    "fig = plt.figure()\n",
    "ax  = fig.add_subplot(111)\n",
    "ax.set_xlabel('month since Sep. 2014',fontsize=12)\n",
    "ax.set_ylabel('number of major science discoveries',fontsize=12)\n",
    "\n",
    "ax.stem(x,label='observations')\n",
    "\n",
    "lam = np.zeros(len(x))\n",
    "lam[:true_n] = true_lam1\n",
    "lam[true_n:] = true_lam2\n",
    "ax.plot(lam,c='r',ls='--',label='true model')\n",
    "\n",
    "ax.axvline(28,lw=2,c='black',ls='--',label='true change point')\n",
    "ax.legend()\n",
    "#fig.savefig('change_point_model.png',dpi=200)"
   ]
  },
  {
   "cell_type": "code",
   "execution_count": 53,
   "metadata": {
    "collapsed": true
   },
   "outputs": [],
   "source": [
    "nequil = 0\n",
    "nsample= 1000\n",
    "\n",
    "# initialize model\n",
    "n=randint(N)\n",
    "lam1 = gamma(a,1./b)\n",
    "lam2 = gamma(a,1./b)\n",
    "ln_xfac = np.log( factorial(x) )\n",
    "\n",
    "# make space for traces\n",
    "trace_n = np.zeros(nsample,dtype=int)\n",
    "trace_lam1 = np.zeros(nsample)\n",
    "trace_lam2 = np.zeros(nsample)\n",
    "\n",
    "# run MCMC \n",
    "for istep in range(nequil+nsample):\n",
    "    \n",
    "    # block sample new lambda1 and lambda2\n",
    "    alam1 = a + sum(x[:n])\n",
    "    blam1 = b + n\n",
    "    alam2 = a + sum(x[n:])\n",
    "    blam2 = b + (N-n)\n",
    "    lam1 = gamma(alam1,1./blam1)\n",
    "    lam2 = gamma(alam2,1./blam2)\n",
    "    \n",
    "    # sample new n\n",
    "    mult_n = np.zeros(N)\n",
    "    for i in range(N):\n",
    "        #mult_n[i] = sum(x[:i])*np.log(lam1) - i*lam1 - i*sum(ln_xfac[:i]) +\\\n",
    "        #            sum(x[i:])*np.log(lam2) + i*lam2 + i*sum(ln_xfac[i:])\n",
    "        mult_n[i] = sum(x[:i])*np.log(lam1) - i*lam1 + sum(x[i:])*np.log(lam2)+i*lam2# - i*sum(ln_xfac[:i])+i*sum(ln_xfac[i:]) \n",
    "    # end for i\n",
    "    mult_n = np.exp(mult_n-max(mult_n))\n",
    "    n = np.where( multinomial(1,mult_n/sum(mult_n))==1 )[0][0]\n",
    "    \n",
    "    if istep >= nequil:\n",
    "        trace_n[istep-nequil]    = n\n",
    "        trace_lam1[istep-nequil] = lam1\n",
    "        trace_lam2[istep-nequil] = lam2\n",
    "    # end if istep\n",
    "    \n",
    "# end for istep"
   ]
  },
  {
   "cell_type": "code",
   "execution_count": 81,
   "metadata": {
    "collapsed": false
   },
   "outputs": [
    {
     "name": "stdout",
     "output_type": "stream",
     "text": [
      "estimate: 29 5.23579572573 1.13405155194\n",
      "errors: 0.0266129716486 0.0136634899154 0.00841787516529\n",
      "true:     28 5.11350788519 1.22436931535\n"
     ]
    }
   ],
   "source": [
    "mylam1 = np.mean(trace_lam1)\n",
    "mylam1e= error(trace_lam1)\n",
    "mylam2 = np.mean(trace_lam2)\n",
    "mylam2e= error(trace_lam2)\n",
    "myn    = int(round( np.mean(trace_n) ))\n",
    "myne   = error(trace_n)\n",
    "print 'estimate:', myn, mylam1, mylam2\n",
    "print 'errors:', myne, mylam1e, mylam2e\n",
    "print 'true:    ', true_n,true_lam1,true_lam2"
   ]
  },
  {
   "cell_type": "code",
   "execution_count": 89,
   "metadata": {
    "collapsed": false
   },
   "outputs": [
    {
     "data": {
      "image/png": "[encoded data removed]",
      "text/plain": [
       "<matplotlib.figure.Figure at 0x7f74f2a8e310>"
      ]
     },
     "metadata": {},
     "output_type": "display_data"
    }
   ],
   "source": [
    "fig = plt.figure()\n",
    "ax  = fig.add_subplot(111)\n",
    "ax.set_xlabel('month since Sep. 2014',fontsize=12)\n",
    "ax.set_ylabel('number of major science discoveries',fontsize=12)\n",
    "\n",
    "ax.stem(x,label='observations')\n",
    "\n",
    "lam = np.zeros(len(x))\n",
    "lam[:true_n] = true_lam1\n",
    "lam[true_n:] = true_lam2\n",
    "\n",
    "mylam = np.zeros(len(x))\n",
    "mylam[:myn] = mylam1\n",
    "mylam[myn:] = mylam2\n",
    "\n",
    "ax.plot(lam,c='r',ls='--',label='true model')\n",
    "ax.plot(mylam,c='gray',ls='-',lw=5,alpha=0.5,label='inferred model')\n",
    "\n",
    "ax.legend()\n",
    "#fig.savefig('change_point_gibbs.png',dpi=200)"
   ]
  }
 ],
 "metadata": {
  "kernelspec": {
   "display_name": "Python 2",
   "language": "python",
   "name": "python2"
  },
  "language_info": {
   "codemirror_mode": {
    "name": "ipython",
    "version": 2
   },
   "file_extension": ".py",
   "mimetype": "text/x-python",
   "name": "python",
   "nbconvert_exporter": "python",
   "pygments_lexer": "ipython2",
   "version": "2.7.12"
  }
 },
 "nbformat": 4,
 "nbformat_minor": 0
}
