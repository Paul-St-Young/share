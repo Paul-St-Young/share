{
 "cells": [
  {
   "cell_type": "code",
   "execution_count": 1,
   "metadata": {
    "collapsed": true
   },
   "outputs": [],
   "source": [
    "import numpy as np\n",
    "from sklearn.datasets import fetch_mldata\n",
    "import matplotlib.pyplot as plt\n",
    "%matplotlib inline"
   ]
  },
  {
   "cell_type": "code",
   "execution_count": 2,
   "metadata": {
    "collapsed": false
   },
   "outputs": [
    {
     "data": {
      "text/plain": [
       "[]"
      ]
     },
     "execution_count": 2,
     "metadata": {},
     "output_type": "execute_result"
    },
    {
     "data": {
      "image/png": "[encoded data removed]",
      "text/plain": [
       "<matplotlib.figure.Figure at 0x7f4cc4286750>"
      ]
     },
     "metadata": {},
     "output_type": "display_data"
    }
   ],
   "source": [
    "mnist = fetch_mldata('MNIST original', data_home='.')\n",
    "\n",
    "idx = 15102\n",
    "\n",
    "pic = mnist.data[idx].reshape(28,28)\n",
    "tar = int( mnist.target[idx] )\n",
    "\n",
    "bw = np.zeros( pic.shape )\n",
    "bw[ np.where( pic/256. >= 0.5 ) ] = 1\n",
    "\n",
    "fig,ax = plt.subplots(1,2)\n",
    "ax[0].matshow(pic, cmap='gray')\n",
    "ax[1].matshow(bw, cmap='gray')\n",
    "\n",
    "ax[0].set_title('MNIST original')\n",
    "ax[1].set_title('black & white')\n",
    "\n",
    "ax[0].get_xaxis().set_ticks([])\n",
    "ax[1].get_xaxis().set_ticks([])\n",
    "ax[0].get_yaxis().set_ticks([])\n",
    "ax[1].get_yaxis().set_ticks([])\n",
    "\n",
    "#fig.savefig('MNIST_data.png',dpi=200)"
   ]
  },
  {
   "cell_type": "code",
   "execution_count": 3,
   "metadata": {
    "collapsed": true
   },
   "outputs": [],
   "source": [
    "def sigmoid(x):\n",
    "    return 1./(1.+np.exp(-x))\n",
    "# end def\n",
    "def get_vis(h,W,a):\n",
    "    return map(int, np.random.rand(len(a)) < sigmoid(np.dot(W.T,h)+a) )\n",
    "# end def\n",
    "def get_hid(v,W,b):\n",
    "    return map(int, np.random.rand(len(b)) < sigmoid(np.dot(W,v)+b) )\n",
    "# end def"
   ]
  },
  {
   "cell_type": "code",
   "execution_count": 4,
   "metadata": {
    "collapsed": false
   },
   "outputs": [],
   "source": [
    "# binary restricted Bolzmann machine\n",
    "# Hinton contrastic divergence training\n",
    "\n",
    "# initialize model\n",
    "nvis = 28*28\n",
    "nhid = 20\n",
    "istart = 0\n",
    "ntrain = 60000\n",
    "\n",
    "avg = mnist.data.mean(axis=0)\n",
    "v_data = np.zeros(nvis)\n",
    "\n",
    "load_previous = False\n",
    "if load_previous:\n",
    "    #W = oldW.copy()\n",
    "    #b = oldb.copy()\n",
    "    #c = oldc.copy()\n",
    "    pass\n",
    "else:\n",
    "    # reinitialize\n",
    "    W = 0.01*np.random.randn(nhid,nvis)\n",
    "    a = avg # shift of visible units\n",
    "    b = -0.1*np.ones(nhid) # shift of hidden units\n",
    "# end if"
   ]
  },
  {
   "cell_type": "code",
   "execution_count": 52,
   "metadata": {
    "collapsed": false
   },
   "outputs": [
    {
     "name": "stderr",
     "output_type": "stream",
     "text": [
      "/usr/local/lib/python2.7/dist-packages/ipykernel/__main__.py:2: RuntimeWarning: overflow encountered in exp\n",
      "  from ipykernel import kernelapp as app\n"
     ]
    }
   ],
   "source": [
    "a = np.zeros(nvis)\n",
    "b = np.zeros(nhid)\n",
    "\n",
    "trace = np.zeros(ntrain)\n",
    "# train model\n",
    "eps = 0.5 # learning rate\n",
    "for isample in range(istart,istart+ntrain):\n",
    "    entry = mnist.data[isample]\n",
    "    # make entry a binary vector\n",
    "    v_data= np.zeros(nvis)\n",
    "    v_data[ np.where( entry/256.>=0.5 ) ] = 1\n",
    "    \n",
    "    # sample hidden units\n",
    "    #h_data = get_hid(v_data,W,b)\n",
    "    h_data = sigmoid(np.dot(W,v_data))\n",
    "    # calculate <v \\outer h>_data\n",
    "    W_data = np.outer(h_data,v_data)\n",
    "    \n",
    "    # calculate <v \\outer h>_model\n",
    "    v_model = get_vis(h_data,W,a)\n",
    "    h_model = get_hid(v_model,W,b)\n",
    "    W_model = np.outer(h_model,v_model)\n",
    "    \n",
    "    \n",
    "    # update parameters\n",
    "    W += eps*(W_data-W_model)\n",
    "    a += eps*(v_data-v_model)\n",
    "    b += eps*(h_data-h_model)\n",
    "    \n",
    "    # record performance\n",
    "    rec_overlap = np.dot(v_data,v_model)/np.dot(v_data,v_data)/np.dot(v_model,v_model)\n",
    "    trace[isample-istart] = rec_overlap\n",
    "# end for isample"
   ]
  },
  {
   "cell_type": "code",
   "execution_count": 51,
   "metadata": {
    "collapsed": false
   },
   "outputs": [],
   "source": [
    "# save current machine\n",
    "oldW = W.copy()\n",
    "olda = a.copy()\n",
    "oldb = b.copy()"
   ]
  },
  {
   "cell_type": "code",
   "execution_count": 4,
   "metadata": {
    "collapsed": false
   },
   "outputs": [
    {
     "data": {
      "image/png": "[encoded data removed]",
      "text/plain": [
       "<matplotlib.figure.Figure at 0x7f4c8190d1d0>"
      ]
     },
     "metadata": {},
     "output_type": "display_data"
    }
   ],
   "source": [
    "#\"\"\"\n",
    "# load trained machine\n",
    "W = np.loadtxt('W20784.dat')\n",
    "a = np.loadtxt('a784.dat')\n",
    "b = np.loadtxt('b20.dat')\n",
    "#\"\"\";\n",
    "\n",
    "# visualize weight vectors\n",
    "fig,ax = plt.subplots(3,3)\n",
    "\n",
    "# sort by hidden unit shift\n",
    "idx = np.argsort(b)[::-1]\n",
    "\n",
    "for ix in range(3):\n",
    "    for iy in range(3):\n",
    "        inum = idx[ ix*3+iy ]\n",
    "        myax = ax[ix][iy]\n",
    "        myax.matshow( W[inum].reshape(28,28), cmap='gray')\n",
    "    # end for iy\n",
    "# end for ix\n",
    "\n",
    "#fig.savefig('brmb_Wmat.png',dpi=200)"
   ]
  },
  {
   "cell_type": "code",
   "execution_count": 5,
   "metadata": {
    "collapsed": false
   },
   "outputs": [
    {
     "data": {
      "text/plain": [
       "<matplotlib.image.AxesImage at 0x7f4c811ee410>"
      ]
     },
     "execution_count": 5,
     "metadata": {},
     "output_type": "execute_result"
    },
    {
     "data": {
      "image/png": "[encoded data removed]",
      "text/plain": [
       "<matplotlib.figure.Figure at 0x7f4c86e3af50>"
      ]
     },
     "metadata": {},
     "output_type": "display_data"
    }
   ],
   "source": [
    "plt.matshow(a.reshape(28,28),cmap='gray')\n",
    "#plt.savefig('vis_shift.png',dpi=200)"
   ]
  },
  {
   "cell_type": "code",
   "execution_count": 8,
   "metadata": {
    "collapsed": true
   },
   "outputs": [],
   "source": [
    "def sample(a,b,W,nstep=10):\n",
    "    h = np.random.randint(2,size=len(b))\n",
    "    for istep in range(nstep):\n",
    "        v = get_vis(h,W,a)\n",
    "        h = get_hid(v,W,b)\n",
    "    # end for\n",
    "    return v\n",
    "# end def"
   ]
  },
  {
   "cell_type": "code",
   "execution_count": 75,
   "metadata": {
    "collapsed": false
   },
   "outputs": [
    {
     "data": {
      "image/png": "[encoded data removed]",
      "text/plain": [
       "<matplotlib.figure.Figure at 0x7f37d764ea90>"
      ]
     },
     "metadata": {},
     "output_type": "display_data"
    }
   ],
   "source": [
    "seed = 8\n",
    "np.random.seed(seed)\n",
    "\n",
    "nstep = 1500\n",
    "# visualize weight vectors\n",
    "fig,ax = plt.subplots(3,3)\n",
    "\n",
    "for ix in range(3):\n",
    "    for iy in range(3):\n",
    "        inum = ix*3+iy+2\n",
    "        myax = ax[ix][iy]\n",
    "        test = np.array( sample(a,b,W,nstep) )\n",
    "        \n",
    "        myax.matshow( test.reshape(28,28), cmap='gray')\n",
    "    # end for iy\n",
    "# end for ix\n",
    "\n",
    "#plt.savefig('results_step%d_seed%d.png'%(nstep,seed),dpi=200)"
   ]
  },
  {
   "cell_type": "code",
   "execution_count": 26,
   "metadata": {
    "collapsed": false
   },
   "outputs": [
    {
     "data": {
      "text/plain": [
       "<matplotlib.image.AxesImage at 0x7f4c8080c650>"
      ]
     },
     "execution_count": 26,
     "metadata": {},
     "output_type": "execute_result"
    },
    {
     "data": {
      "image/png": "[encoded data removed]",
      "text/plain": [
       "<matplotlib.figure.Figure at 0x7f4c80af3e90>"
      ]
     },
     "metadata": {},
     "output_type": "display_data"
    }
   ],
   "source": [
    "test = np.array( sample(a,b,W,1000) )\n",
    "plt.matshow(test.reshape(28,28),cmap='gray')"
   ]
  },
  {
   "cell_type": "code",
   "execution_count": 65,
   "metadata": {
    "collapsed": true
   },
   "outputs": [],
   "source": [
    "# save machine state\n",
    "np.savetxt('W%d%d.dat'%(nhid,nvis),W)\n",
    "np.savetxt('a%d.dat'%nvis,a)\n",
    "np.savetxt('b%d.dat'%nhid,b)"
   ]
  }
 ],
 "metadata": {
  "kernelspec": {
   "display_name": "Python 2",
   "language": "python",
   "name": "python2"
  },
  "language_info": {
   "codemirror_mode": {
    "name": "ipython",
    "version": 2
   },
   "file_extension": ".py",
   "mimetype": "text/x-python",
   "name": "python",
   "nbconvert_exporter": "python",
   "pygments_lexer": "ipython2",
   "version": "2.7.12"
  }
 },
 "nbformat": 4,
 "nbformat_minor": 1
}
