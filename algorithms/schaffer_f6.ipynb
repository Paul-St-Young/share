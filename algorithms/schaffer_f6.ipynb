{
 "cells": [
  {
   "cell_type": "code",
   "execution_count": 1,
   "metadata": {
    "collapsed": false
   },
   "outputs": [],
   "source": [
    "import numpy as np\n",
    "import matplotlib.pyplot as plt\n",
    "%matplotlib inline"
   ]
  },
  {
   "cell_type": "code",
   "execution_count": 2,
   "metadata": {
    "collapsed": true
   },
   "outputs": [],
   "source": [
    "def schaffer_f6(r):\n",
    "    temp1 = np.sin( np.sqrt(np.dot(r,r)) )\n",
    "    temp2 = 1 + 0.001 * np.dot(r,r)\n",
    "    return 0.5 + (temp1 * temp1 - 0.5) / (temp2 * temp2)\n",
    "# end def schaffer_f6"
   ]
  },
  {
   "cell_type": "code",
   "execution_count": 47,
   "metadata": {
    "collapsed": false
   },
   "outputs": [],
   "source": [
    "pop_size = 400\n",
    "dim = 2\n",
    "max_hop = 20\n",
    "c1 = 8\n",
    "c2 = 2\n",
    "\n",
    "minx = -100\n",
    "maxx = 100\n",
    "\n",
    "# initialize population\n",
    "pop = (maxx-minx) * np.random.rand(pop_size,dim) + minx\n",
    "individual_best = np.apply_along_axis(schaffer_f6,1,pop)\n",
    "individual_best_pos = pop\n",
    "min_idx = np.argmin(individual_best)\n",
    "global_best = individual_best[min_idx]\n",
    "global_best_pos = pop[min_idx]\n",
    "\n",
    "# initialize initial hopping sizes\n",
    "hop = max_hop * np.random.rand(pop_size,dim)"
   ]
  },
  {
   "cell_type": "code",
   "execution_count": 49,
   "metadata": {
    "collapsed": false
   },
   "outputs": [
    {
     "name": "stdout",
     "output_type": "stream",
     "text": [
      "0.0097165333633\n",
      "[-1.06161548 -2.95263569]\n"
     ]
    }
   ],
   "source": [
    "max_it = 100\n",
    "for istep in range(max_it):\n",
    "    \n",
    "    # evaluate fitness of population\n",
    "    fitness = np.apply_along_axis(schaffer_f6,1,pop)\n",
    "    \n",
    "    # calculate global best\n",
    "    min_idx = np.argmin(fitness)\n",
    "    current_best = fitness[min_idx]\n",
    "    if current_best < global_best:\n",
    "        global_best = np.copy( current_best )\n",
    "        global_best_pos = np.copy( pop[min_idx] )\n",
    "    # end if\n",
    "    \n",
    "    # update individual best\n",
    "    idx = np.where( np.array(individual_best) < np.array(fitness) )\n",
    "    individual_best[idx] = fitness[idx]\n",
    "    individual_best_pos[idx] = pop[idx]\n",
    "    \n",
    "    # update hopping\n",
    "    hop += c1*np.random.rand()*(individual_best_pos-pop) + \\\n",
    "        c2*np.random.rand()*(global_best_pos-pop)\n",
    "    \n",
    "    # update populaton\n",
    "    pop += hop\n",
    "    \n",
    "    out_idx = np.where(pop>maxx)\n",
    "    pop[out_idx] = maxx\n",
    "    out_idx = np.where(pop<minx)\n",
    "    pop[out_idx] = minx\n",
    "    \n",
    "# end for istep\n",
    "print global_best\n",
    "print global_best_pos"
   ]
  }
 ],
 "metadata": {
  "kernelspec": {
   "display_name": "Python 2",
   "language": "python",
   "name": "python2"
  },
  "language_info": {
   "codemirror_mode": {
    "name": "ipython",
    "version": 2
   },
   "file_extension": ".py",
   "mimetype": "text/x-python",
   "name": "python",
   "nbconvert_exporter": "python",
   "pygments_lexer": "ipython2",
   "version": "2.7.12"
  }
 },
 "nbformat": 4,
 "nbformat_minor": 0
}
