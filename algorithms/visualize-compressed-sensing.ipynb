{
 "cells": [
  {
   "cell_type": "markdown",
   "metadata": {},
   "source": [
    "Inspired by Brian B. Busemeyer's [talk][1].\n",
    "[1]: https://paul-st-young.github.io/algorithms/algorithm/Compressed-Sensing-Brian-Busemeyer/"
   ]
  },
  {
   "cell_type": "markdown",
   "metadata": {},
   "source": [
    "# Code"
   ]
  },
  {
   "cell_type": "code",
   "execution_count": 1,
   "metadata": {
    "collapsed": true
   },
   "outputs": [],
   "source": [
    "import numpy as np\n",
    "import scipy.optimize as op\n",
    "\n",
    "def setup_linprog(basis_change_matrix,measurements):\n",
    "    \"\"\" Generate compressed sensing input for a linear program solver. \n",
    "      Stolen from BB :P \"\"\"\n",
    "    num_measurements = basis_change_matrix.shape[0]\n",
    "    signal_size      = basis_change_matrix.shape[1]\n",
    "\n",
    "    coefs = np.ones(2*signal_size)\n",
    "    coefs[:signal_size] = 0\n",
    "\n",
    "    ineq_mat = np.identity(2*signal_size)\n",
    "    ineq_mat[signal_size:,signal_size:] = -np.identity(signal_size)\n",
    "    ineq_mat[:signal_size,signal_size:] = -np.identity(signal_size)\n",
    "    ineq_mat[signal_size:,:signal_size] = -np.identity(signal_size)\n",
    "\n",
    "    eq_mat = np.zeros((2*signal_size,2*signal_size))\n",
    "    eq_mat[:num_measurements,:signal_size] = basis_change_matrix\n",
    "    eq_vec = np.zeros(2*signal_size)\n",
    "    eq_vec[:num_measurements] = measurements\n",
    "    return coefs,ineq_mat,eq_mat,eq_vec\n",
    "# end def"
   ]
  },
  {
   "cell_type": "code",
   "execution_count": 2,
   "metadata": {
    "collapsed": true
   },
   "outputs": [],
   "source": [
    "def comp_sense(measurements,measurement_basis):\n",
    "    measurement_size,signal_size = measurement_basis.shape\n",
    "    coefs,ineq_mat,eq_mat,eq_vec = setup_linprog(measurement_basis,measurements)\n",
    "    result = op.linprog(\n",
    "        coefs,\n",
    "        ineq_mat,\n",
    "        np.zeros(2*signal_size),\n",
    "        eq_mat,\n",
    "        eq_vec,\n",
    "        bounds=(-np.inf,np.inf),\n",
    "        options={'maxiter':10000}\n",
    "    )\n",
    "    return result.x[:signal_size]\n",
    "# end def"
   ]
  },
  {
   "cell_type": "markdown",
   "metadata": {},
   "source": [
    "# Demonstration"
   ]
  },
  {
   "cell_type": "code",
   "execution_count": 3,
   "metadata": {
    "collapsed": false
   },
   "outputs": [],
   "source": [
    "import matplotlib.pyplot as plt\n",
    "%matplotlib inline"
   ]
  },
  {
   "cell_type": "markdown",
   "metadata": {},
   "source": [
    "### generate known sparse signal in *sparse* space then convert to *real* space"
   ]
  },
  {
   "cell_type": "code",
   "execution_count": 4,
   "metadata": {
    "collapsed": false
   },
   "outputs": [],
   "source": [
    "signal_size = 100\n",
    "\n",
    "# generate random signal\n",
    "signal = np.random.randn(signal_size)\n",
    "\n",
    "# choose how many entries to be zero\n",
    "signal_sparsity = 0.05\n",
    "num_zero_signal = signal_size - int(round(signal_size*signal_sparsity))\n",
    "\n",
    "# choose entries to zero out randomly\n",
    "zeros = np.random.choice(range(len(signal)),num_zero_signal,replace=False)\n",
    "signal[zeros] = 0\n",
    "original_signal = signal.copy()"
   ]
  },
  {
   "cell_type": "code",
   "execution_count": 5,
   "metadata": {
    "collapsed": false
   },
   "outputs": [],
   "source": [
    "# transform signal to real space\n",
    "signal_basis = np.random.randn(signal_size,signal_size)/signal_size\n",
    "real_signal  = np.dot(signal_basis,signal)"
   ]
  },
  {
   "cell_type": "markdown",
   "metadata": {},
   "source": [
    "### generate measurements in real space"
   ]
  },
  {
   "cell_type": "code",
   "execution_count": 6,
   "metadata": {
    "collapsed": false
   },
   "outputs": [],
   "source": [
    "# randomly choose some fraction of signal to measure\n",
    "frac_measurements = 0.3\n",
    "num_measurements  = int(round(frac_measurements * signal_size))\n",
    "measure_idx = np.random.choice(range(signal_size),num_measurements,replace=False)\n",
    "real_measurements = real_signal[measure_idx]\n",
    "# save measurement basis elements\n",
    "measurement_basis = signal_basis[measure_idx,:]"
   ]
  },
  {
   "cell_type": "code",
   "execution_count": 7,
   "metadata": {
    "collapsed": false
   },
   "outputs": [
    {
     "data": {
      "text/plain": [
       "<matplotlib.legend.Legend at 0x7f5d78689850>"
      ]
     },
     "execution_count": 7,
     "metadata": {},
     "output_type": "execute_result"
    },
    {
     "data": {
      "image/png": "[encoded data removed]",
      "text/plain": [
       "<matplotlib.figure.Figure at 0x7f5d78689610>"
      ]
     },
     "metadata": {},
     "output_type": "display_data"
    }
   ],
   "source": [
    "plt.plot(real_signal,\"o\",ms=3,label=\"signal\")\n",
    "plt.plot(measure_idx,real_measurements,\"x\",ms=10,mew=1,label=\"measurement\")\n",
    "plt.legend()"
   ]
  },
  {
   "cell_type": "markdown",
   "metadata": {},
   "source": [
    "### let the magic happen"
   ]
  },
  {
   "cell_type": "code",
   "execution_count": 8,
   "metadata": {
    "collapsed": true
   },
   "outputs": [],
   "source": [
    "result = comp_sense(real_measurements,measurement_basis)"
   ]
  },
  {
   "cell_type": "markdown",
   "metadata": {},
   "source": [
    "### did the magic work?"
   ]
  },
  {
   "cell_type": "code",
   "execution_count": 9,
   "metadata": {
    "collapsed": false
   },
   "outputs": [
    {
     "data": {
      "text/plain": [
       "<matplotlib.legend.Legend at 0x7f5d765c7210>"
      ]
     },
     "execution_count": 9,
     "metadata": {},
     "output_type": "execute_result"
    },
    {
     "data": {
      "image/png": "[encoded data removed]",
      "text/plain": [
       "<matplotlib.figure.Figure at 0x7f5d765c7ad0>"
      ]
     },
     "metadata": {},
     "output_type": "display_data"
    }
   ],
   "source": [
    "plt.plot(real_signal,\"o\",ms=3,label=\"signal\")\n",
    "plt.plot(np.dot(signal_basis,result),\"x\",ms=10,mew=1,label=\"comp. sense.\")\n",
    "plt.legend()"
   ]
  }
 ],
 "metadata": {
  "kernelspec": {
   "display_name": "Python 2",
   "language": "python",
   "name": "python2"
  },
  "language_info": {
   "codemirror_mode": {
    "name": "ipython",
    "version": 2
   },
   "file_extension": ".py",
   "mimetype": "text/x-python",
   "name": "python",
   "nbconvert_exporter": "python",
   "pygments_lexer": "ipython2",
   "version": "2.7.11+"
  }
 },
 "nbformat": 4,
 "nbformat_minor": 0
}
