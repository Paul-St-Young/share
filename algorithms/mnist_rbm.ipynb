{
 "cells": [
  {
   "cell_type": "code",
   "execution_count": 1,
   "metadata": {
    "collapsed": true
   },
   "outputs": [],
   "source": [
    "import numpy as np\n",
    "from sklearn.datasets import fetch_mldata\n",
    "import matplotlib.pyplot as plt\n",
    "%matplotlib inline"
   ]
  },
  {
   "cell_type": "code",
   "execution_count": 2,
   "metadata": {
    "collapsed": true
   },
   "outputs": [],
   "source": [
    "mnist = fetch_mldata('MNIST original', data_home='.')"
   ]
  },
  {
   "cell_type": "code",
   "execution_count": 57,
   "metadata": {
    "collapsed": false
   },
   "outputs": [
    {
     "data": {
      "text/plain": [
       "<matplotlib.text.Text at 0x7fe794f20e10>"
      ]
     },
     "execution_count": 57,
     "metadata": {},
     "output_type": "execute_result"
    },
    {
     "data": {
      "image/png": "[encoded data removed]",
      "text/plain": [
       "<matplotlib.figure.Figure at 0x7fe794fc6150>"
      ]
     },
     "metadata": {},
     "output_type": "display_data"
    }
   ],
   "source": [
    "idx = 15102\n",
    "pic = mnist.data[idx].reshape(28,28)\n",
    "tar = int( mnist.target[idx] )\n",
    "plt.matshow(pic, cmap='gray')\n",
    "plt.title(tar,fontsize=24)"
   ]
  },
  {
   "cell_type": "code",
   "execution_count": 100,
   "metadata": {
    "collapsed": true
   },
   "outputs": [],
   "source": [
    "def sigmoid(x):\n",
    "    return 1./(1.+np.exp(-x))\n",
    "# end def"
   ]
  },
  {
   "cell_type": "code",
   "execution_count": 250,
   "metadata": {
    "collapsed": false
   },
   "outputs": [],
   "source": [
    "avg = mnist.data.mean(axis=0)"
   ]
  },
  {
   "cell_type": "code",
   "execution_count": 254,
   "metadata": {
    "collapsed": false
   },
   "outputs": [
    {
     "data": {
      "text/plain": [
       "<matplotlib.image.AxesImage at 0x7fe7914f7f50>"
      ]
     },
     "execution_count": 254,
     "metadata": {},
     "output_type": "execute_result"
    },
    {
     "data": {
      "image/png": "[encoded data removed]",
      "text/plain": [
       "<matplotlib.figure.Figure at 0x7fe791551590>"
      ]
     },
     "metadata": {},
     "output_type": "display_data"
    }
   ],
   "source": [
    "plt.matshow(avg.reshape(28,28))"
   ]
  },
  {
   "cell_type": "code",
   "execution_count": 349,
   "metadata": {
    "collapsed": false
   },
   "outputs": [
    {
     "name": "stderr",
     "output_type": "stream",
     "text": [
      "/usr/local/lib/python2.7/dist-packages/ipykernel/__main__.py:2: RuntimeWarning: overflow encountered in exp\n",
      "  from ipykernel import kernelapp as app\n"
     ]
    }
   ],
   "source": [
    "# binary restricted Bolzmann machine\n",
    "# Hinton contrastic divergence training\n",
    "\n",
    "# initialize model\n",
    "nvis = 28*28\n",
    "nhid = 10\n",
    "ntrain = 60000\n",
    "\n",
    "W = 0.01*np.random.randn(nhid,nvis)\n",
    "a = avg # shift of visible units\n",
    "b = -4.*np.ones(nhid) # shift of hidden units\n",
    "\n",
    "trace = np.zeros(ntrain)\n",
    "# train model\n",
    "eps = 2.0 # learning rate\n",
    "for isample in range(ntrain):\n",
    "    entry = mnist.data[isample]\n",
    "    # make entry a binary vector\n",
    "    in_vec= np.zeros(nvis)\n",
    "    in_vec[ np.where( entry/256.>=0.5 ) ] = 1\n",
    "    \n",
    "    # make output a binary vector\n",
    "    target  = int( mnist.target[isample] )\n",
    "    out_vec = np.zeros(nhid)\n",
    "    out_vec[target] = 1\n",
    "    \n",
    "    # calculate <v \\outer h>_data\n",
    "    h_data = np.zeros(nhid)\n",
    "    idx = np.where( np.random.rand(nhid) - sigmoid(np.dot(W,in_vec)+b) < 0 )\n",
    "    h_data[idx] = 1\n",
    "    \n",
    "    trace[isample] = target\n",
    "    \n",
    "    W_data = np.outer(out_vec,in_vec)\n",
    "    \n",
    "    # calculate <v \\outer h>_model\n",
    "    v_model = np.zeros(nvis)\n",
    "    idx = np.where( np.random.rand(nvis) - sigmoid(np.dot(h_data,W)+a) < 0 )\n",
    "    v_model[idx] = 1\n",
    "    \n",
    "    h_model = np.zeros(nhid)\n",
    "    idx = np.where( np.random.rand(nhid) - sigmoid(np.dot(W,v_model)+b) < 0 )\n",
    "    h_model[idx] = 1\n",
    "    \n",
    "    W_model = np.outer(h_model,v_model)\n",
    "    \n",
    "    W += eps*(W_data-W_model)\n",
    "    a += eps*(v_data-v_model)\n",
    "    b += eps*(h_data-h_model)\n",
    "    \n",
    "    # given current M,a,b, and v -> sample h\n",
    "    # given current M,a,b, and h -> sample v'\n",
    "    #  Delta W = eps*(vh^T-v'h'^T) i.e. data - model\n",
    "    #  Delta a = eps*(v-v')\n",
    "    #  Delta b = eps*(h-h')\n",
    "# end for isample"
   ]
  },
  {
   "cell_type": "code",
   "execution_count": 356,
   "metadata": {
    "collapsed": false
   },
   "outputs": [
    {
     "data": {
      "image/png": "[encoded data removed]",
      "text/plain": [
       "<matplotlib.figure.Figure at 0x7fe78d2b1210>"
      ]
     },
     "metadata": {},
     "output_type": "display_data"
    }
   ],
   "source": [
    "# weight vectors\n",
    "fig,ax = plt.subplots(3,3)\n",
    "\n",
    "for ix in range(3):\n",
    "    for iy in range(3):\n",
    "        inum = ix*3+iy\n",
    "        myax = ax[ix][iy]\n",
    "        myax.matshow( W[inum].reshape(28,28), cmap='gray')\n",
    "    # end for iy\n",
    "# end for ix"
   ]
  },
  {
   "cell_type": "code",
   "execution_count": null,
   "metadata": {
    "collapsed": true
   },
   "outputs": [],
   "source": []
  }
 ],
 "metadata": {
  "kernelspec": {
   "display_name": "Python 2",
   "language": "python",
   "name": "python2"
  },
  "language_info": {
   "codemirror_mode": {
    "name": "ipython",
    "version": 2
   },
   "file_extension": ".py",
   "mimetype": "text/x-python",
   "name": "python",
   "nbconvert_exporter": "python",
   "pygments_lexer": "ipython2",
   "version": "2.7.12"
  }
 },
 "nbformat": 4,
 "nbformat_minor": 0
}
