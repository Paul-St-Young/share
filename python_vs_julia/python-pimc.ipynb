{
 "cells": [
  {
   "cell_type": "markdown",
   "metadata": {},
   "source": [
    "**(minimum) path integral Monte Carlo for harmonic oscillators**\n",
    "\n",
    "1. every particle is distinguishable (Boltzmons)\n",
    "2. every particle has the same attributes (mass, charge etc.)\n",
    "3. every particle is trapped by the same (harmonic) potential centered at the origin \n",
    "4. open boundary condition\n",
    "5. three dimensional space"
   ]
  },
  {
   "cell_type": "code",
   "execution_count": 1,
   "metadata": {
    "collapsed": true
   },
   "outputs": [],
   "source": [
    "import numpy as np\n",
    "import matplotlib.pyplot as plt\n",
    "%matplotlib inline"
   ]
  },
  {
   "cell_type": "code",
   "execution_count": 2,
   "metadata": {
    "collapsed": false
   },
   "outputs": [],
   "source": [
    "class Path:\n",
    "    # a configuration sampled in PIMC\n",
    "    \n",
    "    def __init__(self,num_particles=1,num_slices=3):\n",
    "        \n",
    "        # number of imaginary time slices\n",
    "        self.num_slices    = num_slices    \n",
    "        # number of particles\n",
    "        self.num_particles = num_particles\n",
    "        \n",
    "        # configration (positions of all particles at all time slices)\n",
    "        #  Rti[t,i,:] is the 3D-vector of particle i's location at imaginary time t\n",
    "        \n",
    "        self.Rti = np.random.randn(num_slices,num_particles,3)\n",
    "        # Rti[t,:,:] contains the positions of all particles at time slice t\n",
    "        # Rti[:,i,:] contains the positions of particle i at all time slices\n",
    "        # the last index is for x,y,z\n",
    "        \n",
    "    # end def __init__\n",
    "    \n",
    "    def visualize(self,projection=\"xy\"):\n",
    "        fig,ax = plt.subplots()\n",
    "        # project the 3D particle positions onto 2 dimensions\n",
    "        proj = list(projection)\n",
    "        dim_map = {\"x\":0,\"y\":1,\"z\":2}\n",
    "        xidx = dim_map[proj[0]]\n",
    "        yidx = dim_map[proj[1]]\n",
    "        for iatom in range(self.num_particles):\n",
    "            x = self.Rti[:,iatom,xidx]\n",
    "            y = self.Rti[:,iatom,yidx]\n",
    "            x = np.reshape(x,len(x))\n",
    "            y = np.reshape(y,len(y))\n",
    "            # each ring should connect back to itself\n",
    "            x = np.append(x,x[0])\n",
    "            y = np.append(y,y[0])\n",
    "            # visualize\n",
    "            ax.plot(x,y,\"x--\",mew=2,label=\"particle %d\"%iatom)\n",
    "            for j in range(len(x)-1):\n",
    "                ax.annotate(\"slice %d\"%j, xy=(x[j],y[j]) )\n",
    "            # end for \n",
    "        # end for iatom\n",
    "        ax.legend()\n",
    "        #return fig\n",
    "    # end def visualize\n",
    "    \n",
    "# end class Path"
   ]
  },
  {
   "cell_type": "code",
   "execution_count": 3,
   "metadata": {
    "collapsed": false
   },
   "outputs": [
    {
     "data": {
      "image/png": "[encoded data removed]",
      "text/plain": [
       "<matplotlib.figure.Figure at 0x7fe54ae2c3d0>"
      ]
     },
     "metadata": {},
     "output_type": "display_data"
    }
   ],
   "source": [
    "path=Path(3)\n",
    "path.visualize()"
   ]
  },
  {
   "cell_type": "code",
   "execution_count": 10,
   "metadata": {
    "collapsed": true
   },
   "outputs": [],
   "source": [
    "def vecnorm(tensor):\n",
    "    return np.sqrt( (tensor*tensor).sum() )\n",
    "# end def "
   ]
  },
  {
   "cell_type": "code",
   "execution_count": 18,
   "metadata": {
    "collapsed": false
   },
   "outputs": [],
   "source": [
    "class HarmonicPIMC:\n",
    "    \n",
    "    def __init__(self,beta,nslices=3,natom=1):\n",
    "        self.path = Path(natom,nslices)\n",
    "        self.omega = 1.0\n",
    "        \n",
    "        self.mass  = 1.0\n",
    "        self.lam   = 0.5*self.mass\n",
    "        self.beta  = float(beta)\n",
    "        self.tau   = beta/self.path.num_particles\n",
    "    # end def __init__\n",
    "    \n",
    "    def harmonic_potential(self,t):\n",
    "        potential = 0.5*self.mass*self.omega**2.*vecnorm(self.path.Rti[t,:,:])\n",
    "        return potential\n",
    "    # end def harmonic_potential\n",
    "    \n",
    "    def harmonic_potential_energy(self):\n",
    "        potential = 0.0\n",
    "        for t in range(self.path.num_slices):\n",
    "            potential += self.harmonic_potential(t)\n",
    "        # end for t\n",
    "        return potential\n",
    "    # end def harmonic_potential_energy\n",
    "    \n",
    "    def kinetic_energy(self):\n",
    "        kinetic = 0.0\n",
    "        inverse_four_lambda_tau2 = 1./(4.*self.lam*self.tau**2.)\n",
    "        for t in range(self.path.num_slices):\n",
    "            # last bead connects back to the first\n",
    "            t1 = t\n",
    "            if t==path.num_slices-1: t1=0\n",
    "                \n",
    "            kinetic -= inverse_four_lambda_tau2*vecnorm(path.Rti[t,:,:]-path.Rti[t1,:,:])**2.\n",
    "        # end for t\n",
    "        kinetic /= float(self.path.num_slices)\n",
    "        kinetic += 3*path.num_particles/2./self.tau\n",
    "        return kinetic\n",
    "    # end def kinetic_energy\n",
    "    \n",
    "    def primitive_action(self,path):\n",
    "        kinetic_action   = 0.0\n",
    "        potential_action = 0.0\n",
    "        for t in range(path.num_slices):\n",
    "            # last bead connects back to the first\n",
    "            t1 = t\n",
    "            if t==path.num_slices-1: t1=0\n",
    "            \n",
    "            # kinetic action\n",
    "            kinetic_action += vecnorm(path.Rti[t,:,:]-path.Rti[t1,:,:])**2./(4.*self.lam*self.tau)\n",
    "            kinetic_action += 3.*path.num_particles/2.*np.log(4.*np.pi*self.lam*self.tau)\n",
    "            # potential action\n",
    "            potential_action += self.tau*self.harmonic_potential(t)\n",
    "        # end for t\n",
    "        return kinetic_action+potential_action\n",
    "    # end def primitive_action\n",
    "    \n",
    "    def single_bead_move(self,gaussian_width=0.1):\n",
    "        # observables to accumulate\n",
    "        attempted_moves = 0\n",
    "        accepted_moves  = 0\n",
    "        kinetic         = 0.0\n",
    "        potential       = 0.0\n",
    "        \n",
    "        nslice = self.path.num_slices\n",
    "        natom  = self.path.num_particles\n",
    "        \n",
    "        for t in range(nslice):\n",
    "            for i in range(natom):\n",
    "                \n",
    "                # save old action\n",
    "                old_action = self.primitive_action(self.path)\n",
    "                \n",
    "                # make a move\n",
    "                move_vector = gaussian_width*np.random.randn(1,1,3)\n",
    "                self.path.Rti[t,i,:] += move_vector.reshape(3)\n",
    "                \n",
    "                # find new action\n",
    "                new_action = self.primitive_action(self.path)\n",
    "                \n",
    "                # accept/reject\n",
    "                if (np.random.rand() < np.exp(-new_action)/np.exp(-old_action) ):\n",
    "                    accepted_moves += 1\n",
    "                else:\n",
    "                    self.path.Rti[t,i,:] -= move_vector.reshape(3)\n",
    "                # end if\n",
    "                attempted_moves += 1\n",
    "                \n",
    "                # accumulate observables\n",
    "                kinetic += self.kinetic_energy()\n",
    "                potential += self.harmonic_potential_energy()\n",
    "                \n",
    "            # end for i\n",
    "        # end for t\n",
    "        kinetic /= float(nslice*natom)\n",
    "        potential /= float(nslice*natom)\n",
    "        return accepted_moves/attempted_moves,kinetic,potential\n",
    "    # end def single_bead_move\n",
    "    \n",
    "    def main_loop(self,nstep):\n",
    "        kinetic_trace   = np.zeros(nstep)\n",
    "        potential_trace = np.zeros(nstep)\n",
    "        acceptance      = 0.0\n",
    "        for istep in range(nstep):\n",
    "            Arate,T,V = self.single_bead_move()\n",
    "            acceptance += Arate\n",
    "            kinetic_trace[istep]   = T\n",
    "            potential_trace[istep] = V\n",
    "        # end for\n",
    "        acceptance /= float(nstep)\n",
    "        return acceptance,kinetic_trace,potential_trace\n",
    "    # end def \n",
    "# end calss HarmonicPIMC"
   ]
  },
  {
   "cell_type": "code",
   "execution_count": 19,
   "metadata": {
    "collapsed": false
   },
   "outputs": [],
   "source": [
    "main = HarmonicPIMC(0.5)"
   ]
  },
  {
   "cell_type": "code",
   "execution_count": 20,
   "metadata": {
    "collapsed": true
   },
   "outputs": [],
   "source": [
    "def expectE(beta):\n",
    "    return 3./2.*np.cosh(beta/2.)/np.sinh(beta/2.)\n",
    "# end def\n",
    "fineb = np.linspace(0.5,5.0,100)\n",
    "finey = map(expectE,fineb)"
   ]
  },
  {
   "cell_type": "code",
   "execution_count": 21,
   "metadata": {
    "collapsed": true
   },
   "outputs": [],
   "source": [
    "def corr(myg):\n",
    "    # autocorrelation\n",
    "    g = np.array(myg)\n",
    "    mu=g.mean()\n",
    "    s=g.std()\n",
    "\n",
    "    sumR=0.0\n",
    "    for k in range(1,len(g)):\n",
    "        R=0.0\n",
    "\n",
    "        # calculate autocorrelation\n",
    "        for t in range(len(g)-k):\n",
    "            R+=(g[t]-mu)*(g[t+k]-mu)\n",
    "        #end for t\n",
    "        R/=(len(g)-k)*s**2.\n",
    "\n",
    "        # accumulate until R<=0\n",
    "        if R>0:\n",
    "            sumR+=R\n",
    "        else:\n",
    "            break\n",
    "        #end if\n",
    "    #end for k\n",
    "\n",
    "    return 1+2.*sumR\n",
    "#end def corr\n",
    "def error(data):\n",
    "    return data.std()/np.sqrt(len(data)/corr(data))\n",
    "# end def error\n",
    "\n",
    "def energy_beta(nstep,nslice,nequil,\n",
    "                beta_min=0.5,beta_step=0.2,beta_max=5.0):\n",
    "    \n",
    "    betas = np.arange(beta_min,beta_max,beta_step)\n",
    "    data = np.zeros(len(betas))\n",
    "    stde = np.zeros(len(betas))\n",
    "    \n",
    "    for i in range(len(betas)):\n",
    "        beta = betas[i]\n",
    "        pimc  = HarmonicPIMC(beta,nslice)\n",
    "        a,T,V = pimc.main_loop(nstep)\n",
    "        E = (T+V)[nequil:]\n",
    "        data[i] = E.mean()\n",
    "        stde[i] = error(E)\n",
    "    # end for beta\n",
    "    \n",
    "    fig = plt.figure()\n",
    "    ax  = fig.add_subplot(\"111\")\n",
    "    ax.plot(fineb,finey,\"--\",label=\"analytic\")\n",
    "    ax.errorbar(betas,data,yerr=stde,fmt=\"o\",label=\"PIMC\")\n",
    "    ax.legend()\n",
    "    \n",
    "# end def energy_beta"
   ]
  },
  {
   "cell_type": "code",
   "execution_count": 22,
   "metadata": {
    "collapsed": false
   },
   "outputs": [
    {
     "data": {
      "image/png": "[encoded data removed]",
      "text/plain": [
       "<matplotlib.figure.Figure at 0x7fe548bb4210>"
      ]
     },
     "metadata": {},
     "output_type": "display_data"
    }
   ],
   "source": [
    "energy_beta(100,3,20)"
   ]
  },
  {
   "cell_type": "code",
   "execution_count": null,
   "metadata": {
    "collapsed": true
   },
   "outputs": [],
   "source": []
  }
 ],
 "metadata": {
  "kernelspec": {
   "display_name": "Python 2",
   "language": "python",
   "name": "python2"
  },
  "language_info": {
   "codemirror_mode": {
    "name": "ipython",
    "version": 2
   },
   "file_extension": ".py",
   "mimetype": "text/x-python",
   "name": "python",
   "nbconvert_exporter": "python",
   "pygments_lexer": "ipython2",
   "version": "2.7.6"
  }
 },
 "nbformat": 4,
 "nbformat_minor": 0
}
