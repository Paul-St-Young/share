{
 "cells": [
  {
   "cell_type": "markdown",
   "metadata": {},
   "source": [
    "# Installation and Setup"
   ]
  },
  {
   "cell_type": "markdown",
   "metadata": {},
   "source": [
    "### Installation\n",
    "\n",
    "Refer to [this][1] how-to.\n",
    "[1]: https://wiki.illinois.edu/wiki/display/mse485/How+to+Install+Python\n",
    "\n",
    "### Manage Python Packages\n",
    "\n",
    "Python has its own [package manager][2] \"pip\" which helps to keep Python more self-contained. This also allows access to new packges even if your OS is out-of-date. If you installed Python using Anaconda, then your package manager will be \"conda\", which also has a nice [documentation][3].\n",
    "[2]:https://packaging.python.org/installing/\n",
    "[3]:http://conda.pydata.org/docs/using/pkgs.html\n",
    "\n",
    "\n",
    "### Running Python\n",
    "\n",
    "#### interactive mode\n",
    "\n",
    "Linux/Unix: open terminal and type \"python\"\n",
    "\n",
    "Anaconda:"
   ]
  },
  {
   "cell_type": "markdown",
   "metadata": {},
   "source": [
    "# Basic Use Cases"
   ]
  },
  {
   "cell_type": "markdown",
   "metadata": {},
   "source": [
    "### Comments"
   ]
  },
  {
   "cell_type": "code",
   "execution_count": 2,
   "metadata": {
    "collapsed": false
   },
   "outputs": [],
   "source": [
    "# I don't know how to write a program but I am charming, \n",
    "#  so I will write down the equations to be implemented \n",
    "#  and find a friend to write it :)\n",
    "\"\"\" \n",
    "It is annoying to have to start each comment with a #, \n",
    " triple quotation allows multi-line comments. It is always\n",
    "a good idea to write lots of comment to lay out the cohesive\n",
    "idea you had while starting to write a piece of code. More\n",
    "often than not, we forget that impressive grand plan we started\n",
    "with as we fight with syntax error and other nitty-gritty of\n",
    "talking to a computer instead of a person.\n",
    "\"\"\";"
   ]
  },
  {
   "cell_type": "markdown",
   "metadata": {},
   "source": [
    "### Best Practices"
   ]
  },
  {
   "cell_type": "markdown",
   "metadata": {},
   "source": [
    "An excellent [paper][1] by Greg Wilson et. al. concisely summarized the best practices of scientific computing. I will steal the most relavant section from the summary paragraph here:\n",
    "\n",
    "1. Write programs for people, not computers\n",
    "  1. A program should not require its readers to hold more than a handful of facts in memory at once.\n",
    "  2. Make names consistent, distinctive, and meaningful.\n",
    "  3. Make code style and formatting consistent.\n",
    "2. Let the computer do the work.\n",
    "  1. Make the computer repeat tasks.\n",
    "  2. Save recent commands in a file for re-use.\n",
    "  3. Use a build tool (or Jupyter notebook) to automate and save workflows.\n",
    "3. Make incremental changes.\n",
    "  1. Work in small steps with frequent feedback and course correction.\n",
    "  2. Use a version control system (eg. git,subversion)\n",
    "  3. Upload all work into version control system\n",
    "4. Don't repeat yourself (or others)\n",
    "  1. Every piece of data must have a single authoritative representation in the system.\n",
    "  2. Modularize code rather than copying and pasting.\n",
    "  3. Re-use code (yours or others) instead of rewriting it.\n",
    "5. Plan for mistakes\n",
    "  1. Add assertions to programs to check their operation.\n",
    "  2. Use an off-the-shelf unit testing library.\n",
    "  3. Turn bugs into test cases.\n",
    "\n",
    "[1]:http://journals.plos.org/plosbiology/article?id=10.1371/journal.pbio.1001745"
   ]
  },
  {
   "cell_type": "markdown",
   "metadata": {},
   "source": [
    "Much of the following can be found on [\"A Beginner's Python Tutorial\"][1]\n",
    "[1]:https://en.wikibooks.org/wiki/A_Beginner%27s_Python_Tutorial"
   ]
  },
  {
   "cell_type": "markdown",
   "metadata": {},
   "source": [
    "### Using python as a calculator"
   ]
  },
  {
   "cell_type": "markdown",
   "metadata": {},
   "source": [
    "basic arithmetics are built in"
   ]
  },
  {
   "cell_type": "code",
   "execution_count": null,
   "metadata": {
    "collapsed": false
   },
   "outputs": [],
   "source": [
    "1 + 1"
   ]
  },
  {
   "cell_type": "code",
   "execution_count": null,
   "metadata": {
    "collapsed": false
   },
   "outputs": [],
   "source": [
    "2*3"
   ]
  },
  {
   "cell_type": "code",
   "execution_count": null,
   "metadata": {
    "collapsed": false
   },
   "outputs": [],
   "source": [
    "7/2 # gotcha !"
   ]
  },
  {
   "cell_type": "code",
   "execution_count": null,
   "metadata": {
    "collapsed": true
   },
   "outputs": [],
   "source": [
    "7./2"
   ]
  },
  {
   "cell_type": "markdown",
   "metadata": {},
   "source": [
    "more complicated functions can be accessed using the numpy package"
   ]
  },
  {
   "cell_type": "code",
   "execution_count": null,
   "metadata": {
    "collapsed": true
   },
   "outputs": [],
   "source": [
    "import numpy as np"
   ]
  },
  {
   "cell_type": "code",
   "execution_count": null,
   "metadata": {
    "collapsed": false
   },
   "outputs": [],
   "source": [
    "np.exp(1j)"
   ]
  },
  {
   "cell_type": "code",
   "execution_count": null,
   "metadata": {
    "collapsed": false
   },
   "outputs": [],
   "source": [
    "np.cos(1) + 1j*np.sin(1)"
   ]
  },
  {
   "cell_type": "code",
   "execution_count": null,
   "metadata": {
    "collapsed": false
   },
   "outputs": [],
   "source": [
    "np.sqrt(144)"
   ]
  }
 ],
 "metadata": {
  "kernelspec": {
   "display_name": "Python 2",
   "language": "python",
   "name": "python2"
  },
  "language_info": {
   "codemirror_mode": {
    "name": "ipython",
    "version": 2
   },
   "file_extension": ".py",
   "mimetype": "text/x-python",
   "name": "python",
   "nbconvert_exporter": "python",
   "pygments_lexer": "ipython2",
   "version": "2.7.12"
  }
 },
 "nbformat": 4,
 "nbformat_minor": 0
}
