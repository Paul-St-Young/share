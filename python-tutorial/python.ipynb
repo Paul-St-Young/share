{
 "cells": [
  {
   "cell_type": "markdown",
   "metadata": {},
   "source": [
    "script available on [GitHub][1]\n",
    "[1]:https://github.com/Paul-St-Young/share/blob/master/python-tutorial/python.ipynb"
   ]
  },
  {
   "cell_type": "markdown",
   "metadata": {},
   "source": [
    "# Installation and Setup"
   ]
  },
  {
   "cell_type": "markdown",
   "metadata": {},
   "source": [
    "### Installation\n",
    "\n",
    "Refer to [this][1] how-to.\n",
    "[1]: https://wiki.illinois.edu/wiki/display/mse485/How+to+Install+Python\n",
    "\n",
    "### Manage Python Packages\n",
    "\n",
    "Python has its own [package manager][2] \"pip\" to keep Python self-contained. pip also allows access to new packges even if your OS is out-of-date. If you installed Python using Anaconda, then your package manager will be \"conda\", which also has a nice [documentation][3].\n",
    "[2]:https://packaging.python.org/installing/\n",
    "[3]:http://conda.pydata.org/docs/using/pkgs.html\n",
    "\n",
    "\n",
    "### Running Python\n",
    "\n",
    "#### interactive mode\n",
    "\n",
    "Linux/Unix: open terminal and type \"python\"\n",
    "\n",
    "Anaconda:\n",
    "\n",
    "#### run a python script\n",
    "\n",
    "1. Put Python code (eg. `print(\"hello world\")`)  in a file, say \"hello.py\".\n",
    "2. Invoke the Python interpreter with the file as its first argument.\n",
    "```bash\n",
    "python hello.py\n",
    "```\n",
    "\n",
    "#### recommended editors\n",
    "\n",
    "If you plan to do computational research in the future, please pick either emacs or vim. They are excellent command-line editors with many academic users. Command-line editors have steeper learning curves than GUI-based ones, but you can do way more with them over time (good luck using GUI editors on supercomputers). Many excellent online tutorials exist.\n",
    "\n",
    "1. [Atom][4]\n",
    "2. [Sublime][5]\n",
    "3. [Emacs][6]\n",
    "4. [Vim][7]\n",
    "\n",
    "[4]:https://atom.io/\n",
    "[5]:https://www.sublimetext.com/\n",
    "[6]:https://www.gnu.org/software/emacs/\n",
    "[7]:http://www.vim.org/"
   ]
  },
  {
   "cell_type": "markdown",
   "metadata": {},
   "source": [
    "# Rules!"
   ]
  },
  {
   "cell_type": "markdown",
   "metadata": {},
   "source": [
    "### Rule #1: Write Comments\n",
    "The more the better!"
   ]
  },
  {
   "cell_type": "code",
   "execution_count": 1,
   "metadata": {
    "collapsed": false
   },
   "outputs": [],
   "source": [
    "# I don't know how to write a program but I am charming, \n",
    "#  so I will write down the equations to be implemented \n",
    "#  and find a friend to write it :)\n",
    "\"\"\" \n",
    "It is annoying to have to start each comment with a #, \n",
    " triple quotation allows multi-line comments. \n",
    " \n",
    "It is always a good idea to write lots of comment to lay out the \n",
    "cohesive idea you had while starting to write a piece of code. \n",
    "More often than not, we forget that impressive grand plan we started\n",
    "with as we fight with syntax error and other nitty-gritty of\n",
    "talking to a computer.\n",
    "\"\"\";"
   ]
  },
  {
   "cell_type": "markdown",
   "metadata": {},
   "source": [
    "### Rule #2: Follow Best Practices"
   ]
  },
  {
   "cell_type": "markdown",
   "metadata": {},
   "source": [
    "An excellent [paper][1] by Greg Wilson et. al. concisely summarizes the best practices of scientific computing. I will steal the most relavant section from the summary paragraph here:\n",
    "\n",
    "1. Write programs for people, not computers\n",
    "  1. A program should not require its readers to hold more than a handful of facts in memory at once.\n",
    "  2. Make names consistent, distinctive, and meaningful.\n",
    "  3. Make code style and formatting consistent.\n",
    "2. Let the computer do the work.\n",
    "  1. Make the computer repeat tasks.\n",
    "  2. Save recent commands in a file for re-use.\n",
    "  3. Use a build tool (or Jupyter notebook) to automate and save workflows.\n",
    "3. Make incremental changes.\n",
    "  1. Work in small steps with frequent feedback and course correction.\n",
    "  2. Use a version control system (eg. git,subversion)\n",
    "  3. Upload all work into version control system\n",
    "4. Don't repeat yourself (or others)\n",
    "  1. Every piece of data must have a single authoritative representation in the system.\n",
    "  2. Modularize code rather than copying and pasting.\n",
    "  3. Re-use code (yours or others) instead of rewriting it.\n",
    "5. Plan for mistakes\n",
    "  1. Add assertions to programs to check their operation.\n",
    "  2. Use an off-the-shelf unit testing library.\n",
    "  3. Turn bugs into test cases.\n",
    "\n",
    "[1]:http://journals.plos.org/plosbiology/article?id=10.1371/journal.pbio.1001745"
   ]
  },
  {
   "cell_type": "markdown",
   "metadata": {},
   "source": [
    "# Basic Use Cases"
   ]
  },
  {
   "cell_type": "markdown",
   "metadata": {},
   "source": [
    "Much of the following can be found on [\"A Beginner's Python Tutorial\"][1]\n",
    "[1]:https://en.wikibooks.org/wiki/A_Beginner%27s_Python_Tutorial"
   ]
  },
  {
   "cell_type": "markdown",
   "metadata": {},
   "source": [
    "### Using python as a calculator"
   ]
  },
  {
   "cell_type": "markdown",
   "metadata": {},
   "source": [
    "basic arithmetics are built in"
   ]
  },
  {
   "cell_type": "code",
   "execution_count": 2,
   "metadata": {
    "collapsed": false
   },
   "outputs": [
    {
     "data": {
      "text/plain": [
       "2"
      ]
     },
     "execution_count": 2,
     "metadata": {},
     "output_type": "execute_result"
    }
   ],
   "source": [
    "1 + 1"
   ]
  },
  {
   "cell_type": "code",
   "execution_count": 3,
   "metadata": {
    "collapsed": false
   },
   "outputs": [
    {
     "data": {
      "text/plain": [
       "6"
      ]
     },
     "execution_count": 3,
     "metadata": {},
     "output_type": "execute_result"
    }
   ],
   "source": [
    "2*3"
   ]
  },
  {
   "cell_type": "code",
   "execution_count": 4,
   "metadata": {
    "collapsed": false
   },
   "outputs": [
    {
     "data": {
      "text/plain": [
       "8"
      ]
     },
     "execution_count": 4,
     "metadata": {},
     "output_type": "execute_result"
    }
   ],
   "source": [
    "2**3"
   ]
  },
  {
   "cell_type": "code",
   "execution_count": 5,
   "metadata": {
    "collapsed": false
   },
   "outputs": [
    {
     "data": {
      "text/plain": [
       "3"
      ]
     },
     "execution_count": 5,
     "metadata": {},
     "output_type": "execute_result"
    }
   ],
   "source": [
    "7/2 # gotcha !"
   ]
  },
  {
   "cell_type": "code",
   "execution_count": 6,
   "metadata": {
    "collapsed": false
   },
   "outputs": [
    {
     "data": {
      "text/plain": [
       "3.5"
      ]
     },
     "execution_count": 6,
     "metadata": {},
     "output_type": "execute_result"
    }
   ],
   "source": [
    "7./2"
   ]
  },
  {
   "cell_type": "code",
   "execution_count": 7,
   "metadata": {
    "collapsed": false
   },
   "outputs": [
    {
     "data": {
      "text/plain": [
       "1"
      ]
     },
     "execution_count": 7,
     "metadata": {},
     "output_type": "execute_result"
    }
   ],
   "source": [
    "5%2 # modulo"
   ]
  },
  {
   "cell_type": "markdown",
   "metadata": {},
   "source": [
    "more advanced functions can be accessed using the numpy package"
   ]
  },
  {
   "cell_type": "code",
   "execution_count": 8,
   "metadata": {
    "collapsed": true
   },
   "outputs": [],
   "source": [
    "import numpy as np"
   ]
  },
  {
   "cell_type": "code",
   "execution_count": 9,
   "metadata": {
    "collapsed": false
   },
   "outputs": [
    {
     "data": {
      "text/plain": [
       "(0.54030230586813977+0.8414709848078965j)"
      ]
     },
     "execution_count": 9,
     "metadata": {},
     "output_type": "execute_result"
    }
   ],
   "source": [
    "np.exp(1j)"
   ]
  },
  {
   "cell_type": "code",
   "execution_count": 10,
   "metadata": {
    "collapsed": false
   },
   "outputs": [
    {
     "data": {
      "text/plain": [
       "(0.54030230586813977+0.8414709848078965j)"
      ]
     },
     "execution_count": 10,
     "metadata": {},
     "output_type": "execute_result"
    }
   ],
   "source": [
    "np.cos(1) + 1j*np.sin(1)"
   ]
  },
  {
   "cell_type": "code",
   "execution_count": 11,
   "metadata": {
    "collapsed": false
   },
   "outputs": [
    {
     "data": {
      "text/plain": [
       "12.0"
      ]
     },
     "execution_count": 11,
     "metadata": {},
     "output_type": "execute_result"
    }
   ],
   "source": [
    "np.sqrt(144)"
   ]
  },
  {
   "cell_type": "markdown",
   "metadata": {},
   "source": [
    "### Loop and Condition"
   ]
  },
  {
   "cell_type": "code",
   "execution_count": 12,
   "metadata": {
    "collapsed": false
   },
   "outputs": [
    {
     "name": "stdout",
     "output_type": "stream",
     "text": [
      "1\n",
      "2\n",
      "3\n"
     ]
    }
   ],
   "source": [
    "for my_index in [1,2,3]:\n",
    "    print(my_index)\n",
    "# end for"
   ]
  },
  {
   "cell_type": "code",
   "execution_count": 13,
   "metadata": {
    "collapsed": false
   },
   "outputs": [
    {
     "name": "stdout",
     "output_type": "stream",
     "text": [
      "0\n",
      "1\n",
      "2\n"
     ]
    }
   ],
   "source": [
    "for my_index in range(3):\n",
    "    print(my_index)\n",
    "# end for"
   ]
  },
  {
   "cell_type": "code",
   "execution_count": 14,
   "metadata": {
    "collapsed": false
   },
   "outputs": [
    {
     "name": "stdout",
     "output_type": "stream",
     "text": [
      "1\n",
      "2\n",
      "3\n"
     ]
    }
   ],
   "source": [
    "# while loop may not terminate\n",
    "my_index = 1\n",
    "while my_index < 4:\n",
    "    print(my_index)\n",
    "    my_index += 1 # try comment this out... JK don't do it!\n",
    "# end while"
   ]
  },
  {
   "cell_type": "markdown",
   "metadata": {},
   "source": [
    "python uses indentation to determine blocks, you could easily have done\n",
    "```python\n",
    "my_index = 1\n",
    "while my_index < 4:\n",
    "    print(my_index)\n",
    "my_index += 1 ```\n",
    "that would be a big oopsy"
   ]
  },
  {
   "cell_type": "markdown",
   "metadata": {},
   "source": [
    "#### introducing `break`"
   ]
  },
  {
   "cell_type": "code",
   "execution_count": 15,
   "metadata": {
    "collapsed": false
   },
   "outputs": [
    {
     "name": "stdout",
     "output_type": "stream",
     "text": [
      "1\n",
      "2\n",
      "3\n"
     ]
    }
   ],
   "source": [
    "# for loop always terminates, thus it is preferred\n",
    "for my_index in range(10):\n",
    "    if (my_index>0) and (my_index<=3):\n",
    "        print(my_index)\n",
    "    elif (my_index>3):\n",
    "        break\n",
    "    # end if\n",
    "# end for"
   ]
  },
  {
   "cell_type": "markdown",
   "metadata": {},
   "source": [
    "### Functions"
   ]
  },
  {
   "cell_type": "markdown",
   "metadata": {},
   "source": [
    "define modular functions to maximize code reusability and readability"
   ]
  },
  {
   "cell_type": "code",
   "execution_count": 16,
   "metadata": {
    "collapsed": true
   },
   "outputs": [],
   "source": [
    "def boltzmann_factor(energy_in_J,temperature_in_K):\n",
    "    # 1 joule = 7.243e22 K *kB\n",
    "    kB = 1.38e-23 # m^2 kg/ s^2 K\n",
    "    return np.exp(-float(energy_in_J)/kB/temperature_in_K)\n",
    "# end def"
   ]
  },
  {
   "cell_type": "code",
   "execution_count": 17,
   "metadata": {
    "collapsed": true
   },
   "outputs": [],
   "source": [
    "def fermi_dirac_dist(energy_in_J,temperature_in_K,chemical_pot_in_J):\n",
    "    denomimator = 1.0/boltzmann_factor(\n",
    "        energy_in_J-chemical_pot_in_J\n",
    "        ,temperature_in_K\n",
    "      ) + 1.0\n",
    "    return 1.0/denomimator\n",
    "# end def"
   ]
  },
  {
   "cell_type": "code",
   "execution_count": 18,
   "metadata": {
    "collapsed": true
   },
   "outputs": [],
   "source": [
    "def bose_einstein_dist(energy_in_J,temperature_in_K,chemical_pot_in_J):\n",
    "    denomimator = 1.0/boltzmann_factor(\n",
    "        energy_in_J-chemical_pot_in_J\n",
    "        ,temperature_in_K\n",
    "      ) - 1.0\n",
    "    return 1.0/denomimator\n",
    "# end def"
   ]
  },
  {
   "cell_type": "code",
   "execution_count": 19,
   "metadata": {
    "collapsed": false
   },
   "outputs": [
    {
     "data": {
      "text/plain": [
       "0.49993961352686361"
      ]
     },
     "execution_count": 19,
     "metadata": {},
     "output_type": "execute_result"
    }
   ],
   "source": [
    "# 50% occupation near chemical potential\n",
    "fermi_dirac_dist(1.01e-22,300,1e-22)"
   ]
  },
  {
   "cell_type": "code",
   "execution_count": 20,
   "metadata": {
    "collapsed": false
   },
   "outputs": [
    {
     "data": {
      "text/plain": [
       "4139.5000201305456"
      ]
     },
     "execution_count": 20,
     "metadata": {},
     "output_type": "execute_result"
    }
   ],
   "source": [
    "# divergent occupation near chemical potential\n",
    "bose_einstein_dist(1.01e-22,300,1e-22)"
   ]
  },
  {
   "cell_type": "markdown",
   "metadata": {},
   "source": [
    "### Variables and Scope\n",
    "The scope of a variable is the union of all places in the code where the variable can be accessed. Variables in a function are \"local\" and cannot be access by other parts of the program unless returned."
   ]
  },
  {
   "cell_type": "code",
   "execution_count": 21,
   "metadata": {
    "collapsed": false
   },
   "outputs": [
    {
     "name": "stdout",
     "output_type": "stream",
     "text": [
      "50.0\n"
     ]
    }
   ],
   "source": [
    "devil_burn_my_soul = 50.0\n",
    "\n",
    "def firey_hell(devil_burn_my_soul):\n",
    "    devil_burn_my_soul += 10.\n",
    "    \n",
    "firey_hell(20)\n",
    "print(devil_burn_my_soul)"
   ]
  },
  {
   "cell_type": "code",
   "execution_count": 22,
   "metadata": {
    "collapsed": false
   },
   "outputs": [
    {
     "name": "stdout",
     "output_type": "stream",
     "text": [
      "60.0\n"
     ]
    }
   ],
   "source": [
    "# you can use a global variable, but this is NOT recommended\n",
    "#  see classes for better solution\n",
    "global devil_burn_my_soul \n",
    "devil_burn_my_soul = 50.0\n",
    "\n",
    "def firey_hell():\n",
    "    # side effect! bad! bad! bad!\n",
    "    global devil_burn_my_soul\n",
    "    devil_burn_my_soul += 10.\n",
    "    \n",
    "firey_hell()\n",
    "print(devil_burn_my_soul)"
   ]
  },
  {
   "cell_type": "markdown",
   "metadata": {},
   "source": [
    "### Tuples, Lists, Dictionaries"
   ]
  },
  {
   "cell_type": "markdown",
   "metadata": {},
   "source": [
    "list: iterable, extendable, mutable and ordered array of elements\n",
    "\n",
    "tuple: immutable list\n",
    "\n",
    "dictionary: iterable, extendable, mutable and un-ordered key-value pairs"
   ]
  },
  {
   "cell_type": "code",
   "execution_count": 23,
   "metadata": {
    "collapsed": false
   },
   "outputs": [
    {
     "name": "stdout",
     "output_type": "stream",
     "text": [
      "5\n",
      "4\n",
      "2\n",
      "3\n",
      "1\n"
     ]
    }
   ],
   "source": [
    "mylist = [5,4,2,3,1]\n",
    "for item in mylist:\n",
    "    print(item)\n",
    "# end for"
   ]
  },
  {
   "cell_type": "code",
   "execution_count": 24,
   "metadata": {
    "collapsed": true
   },
   "outputs": [],
   "source": [
    "mylist[2] = 100\n",
    "mylist.insert(0,50)"
   ]
  },
  {
   "cell_type": "code",
   "execution_count": 25,
   "metadata": {
    "collapsed": false
   },
   "outputs": [
    {
     "name": "stdout",
     "output_type": "stream",
     "text": [
      "50\n",
      "5\n",
      "4\n",
      "100\n",
      "3\n",
      "1\n"
     ]
    }
   ],
   "source": [
    "for i in range(len(mylist)):\n",
    "    print( mylist[i] )\n",
    "# end for"
   ]
  },
  {
   "cell_type": "code",
   "execution_count": 26,
   "metadata": {
    "collapsed": false
   },
   "outputs": [
    {
     "name": "stdout",
     "output_type": "stream",
     "text": [
      "5\n",
      "4\n",
      "2\n",
      "3\n",
      "1\n"
     ]
    }
   ],
   "source": [
    "mytuple = (5,4,2,3,1)\n",
    "for item in mytuple:\n",
    "    print(item)\n",
    "# end for"
   ]
  },
  {
   "cell_type": "code",
   "execution_count": 27,
   "metadata": {
    "collapsed": false
   },
   "outputs": [
    {
     "ename": "TypeError",
     "evalue": "'tuple' object does not support item assignment",
     "output_type": "error",
     "traceback": [
      "\u001b[1;31m---------------------------------------------------------------------------\u001b[0m",
      "\u001b[1;31mTypeError\u001b[0m                                 Traceback (most recent call last)",
      "\u001b[1;32m<ipython-input-27-ce2db551d84e>\u001b[0m in \u001b[0;36m<module>\u001b[1;34m()\u001b[0m\n\u001b[1;32m----> 1\u001b[1;33m \u001b[0mmytuple\u001b[0m\u001b[1;33m[\u001b[0m\u001b[1;36m2\u001b[0m\u001b[1;33m]\u001b[0m \u001b[1;33m=\u001b[0m \u001b[1;36m100\u001b[0m\u001b[1;33m\u001b[0m\u001b[0m\n\u001b[0m\u001b[0;32m      2\u001b[0m \u001b[1;31m# oopsy-daisies\u001b[0m\u001b[1;33m\u001b[0m\u001b[1;33m\u001b[0m\u001b[0m\n",
      "\u001b[1;31mTypeError\u001b[0m: 'tuple' object does not support item assignment"
     ]
    }
   ],
   "source": [
    "mytuple[2] = 100\n",
    "# oopsy-daisies"
   ]
  },
  {
   "cell_type": "code",
   "execution_count": 28,
   "metadata": {
    "collapsed": false
   },
   "outputs": [
    {
     "name": "stdout",
     "output_type": "stream",
     "text": [
      "5\n",
      "4\n",
      "2\n",
      "3\n",
      "1\n"
     ]
    }
   ],
   "source": [
    "mydict = {0:5,1:4,2:2,3:3,4:1}\n",
    "for i in range(len(mydict)):\n",
    "    print( mydict[i] )\n",
    "# end for"
   ]
  },
  {
   "cell_type": "code",
   "execution_count": 29,
   "metadata": {
    "collapsed": false
   },
   "outputs": [
    {
     "data": {
      "text/plain": [
       "['favorite number', 'hobbies', 'name', 'where abouts']"
      ]
     },
     "execution_count": 29,
     "metadata": {},
     "output_type": "execute_result"
    }
   ],
   "source": [
    "mydict = {\n",
    "    \"name\":\"Paul\"\n",
    "    ,\"favorite number\":42\n",
    "    ,\"where abouts\":\"elusive\"\n",
    "    ,\"hobbies\":[\"coffee\",\"code\"]\n",
    "}\n",
    "mydict.keys()"
   ]
  },
  {
   "cell_type": "code",
   "execution_count": 30,
   "metadata": {
    "collapsed": false
   },
   "outputs": [
    {
     "data": {
      "text/plain": [
       "'elusive'"
      ]
     },
     "execution_count": 30,
     "metadata": {},
     "output_type": "execute_result"
    }
   ],
   "source": [
    "mydict[\"where abouts\"]"
   ]
  },
  {
   "cell_type": "code",
   "execution_count": 31,
   "metadata": {
    "collapsed": true
   },
   "outputs": [],
   "source": [
    "mydict[\"new entry\"] = False"
   ]
  },
  {
   "cell_type": "code",
   "execution_count": 32,
   "metadata": {
    "collapsed": false
   },
   "outputs": [
    {
     "name": "stdout",
     "output_type": "stream",
     "text": [
      "favorite number : 42\n",
      "hobbies : ['coffee', 'code']\n",
      "name : Paul\n",
      "new entry : False\n",
      "where abouts : elusive\n"
     ]
    }
   ],
   "source": [
    "for key,value in mydict.iteritems():\n",
    "    print( \"%s : %s\" % (str(key),str(value)) )\n",
    "# end for"
   ]
  },
  {
   "cell_type": "markdown",
   "metadata": {},
   "source": [
    "#### List Comprehension"
   ]
  },
  {
   "cell_type": "code",
   "execution_count": 33,
   "metadata": {
    "collapsed": false
   },
   "outputs": [
    {
     "data": {
      "text/plain": [
       "[25, 16, 4, 9, 1]"
      ]
     },
     "execution_count": 33,
     "metadata": {},
     "output_type": "execute_result"
    }
   ],
   "source": [
    "mylist = [5,4,2,3,1]\n",
    "[item**2 for item in mylist]"
   ]
  },
  {
   "cell_type": "code",
   "execution_count": 34,
   "metadata": {
    "collapsed": false
   },
   "outputs": [
    {
     "data": {
      "text/plain": [
       "[75, 66, 54, 59, 51]"
      ]
     },
     "execution_count": 34,
     "metadata": {},
     "output_type": "execute_result"
    }
   ],
   "source": [
    "square_and_shift = lambda x:x**2+50\n",
    "[square_and_shift(item) for item in mylist]"
   ]
  },
  {
   "cell_type": "markdown",
   "metadata": {},
   "source": [
    "#### List splicing"
   ]
  },
  {
   "cell_type": "code",
   "execution_count": 35,
   "metadata": {
    "collapsed": false
   },
   "outputs": [
    {
     "data": {
      "text/plain": [
       "[4, 2]"
      ]
     },
     "execution_count": 35,
     "metadata": {},
     "output_type": "execute_result"
    }
   ],
   "source": [
    "# from index 1 to -2 (wrap around)\n",
    "mylist[1:-2]"
   ]
  },
  {
   "cell_type": "code",
   "execution_count": 36,
   "metadata": {
    "collapsed": false
   },
   "outputs": [
    {
     "data": {
      "text/plain": [
       "[5, 2, 1]"
      ]
     },
     "execution_count": 36,
     "metadata": {},
     "output_type": "execute_result"
    }
   ],
   "source": [
    "# all even indices\n",
    "mylist[::2]"
   ]
  },
  {
   "cell_type": "code",
   "execution_count": 37,
   "metadata": {
    "collapsed": false
   },
   "outputs": [
    {
     "data": {
      "text/plain": [
       "[4, 3]"
      ]
     },
     "execution_count": 37,
     "metadata": {},
     "output_type": "execute_result"
    }
   ],
   "source": [
    "# all odd indices\n",
    "mylist[1::2]"
   ]
  },
  {
   "cell_type": "markdown",
   "metadata": {},
   "source": [
    "#### gotcha!"
   ]
  },
  {
   "cell_type": "code",
   "execution_count": 38,
   "metadata": {
    "collapsed": false
   },
   "outputs": [],
   "source": [
    "mylist = [5,4,2,3,1]\n",
    "entry = [1,2]\n",
    "mylist.append(entry)\n",
    "# only a reference to entry is saved, NOT a copy, which means ...\n",
    "#  entry can be changed elsewhere without mylist knowing"
   ]
  },
  {
   "cell_type": "code",
   "execution_count": 39,
   "metadata": {
    "collapsed": false
   },
   "outputs": [
    {
     "data": {
      "text/plain": [
       "[5, 4, 2, 3, 1, [1, 2]]"
      ]
     },
     "execution_count": 39,
     "metadata": {},
     "output_type": "execute_result"
    }
   ],
   "source": [
    "mylist"
   ]
  },
  {
   "cell_type": "code",
   "execution_count": 40,
   "metadata": {
    "collapsed": false
   },
   "outputs": [
    {
     "data": {
      "text/plain": [
       "[5, 4, 2, 3, 1, [10, 2]]"
      ]
     },
     "execution_count": 40,
     "metadata": {},
     "output_type": "execute_result"
    }
   ],
   "source": [
    "entry[0] = 10\n",
    "mylist"
   ]
  },
  {
   "cell_type": "code",
   "execution_count": 41,
   "metadata": {
    "collapsed": false
   },
   "outputs": [
    {
     "data": {
      "text/plain": [
       "[5, 4, 2, 3, 1, [1, 2]]"
      ]
     },
     "execution_count": 41,
     "metadata": {},
     "output_type": "execute_result"
    }
   ],
   "source": [
    "# use a deep copy to avoid the above problem\n",
    "from copy import deepcopy\n",
    "mylist = [5,4,2,3,1]\n",
    "entry = [1,2]\n",
    "mylist.append( deepcopy(entry) )\n",
    "entry[0] = 10\n",
    "mylist"
   ]
  },
  {
   "cell_type": "markdown",
   "metadata": {},
   "source": [
    "### Basic Plotting"
   ]
  },
  {
   "cell_type": "code",
   "execution_count": 42,
   "metadata": {
    "collapsed": true
   },
   "outputs": [],
   "source": [
    "trace_text = \"\"\"-7.436823 -7.290942 -7.271528 -7.282786 -7.283622 -7.268156 -7.401003\n",
    " -7.304412 -7.211659 -7.231061 -7.27238  -7.287718 -7.240896 -7.121189\n",
    " -7.098841 -7.169402 -7.16689  -7.161854 -7.204029 -7.284694 -7.260288\n",
    " -7.368507 -7.472383 -7.442443 -7.448409 -7.409199 -7.353145 -7.242572\n",
    " -7.277459 -7.24589  -7.159036 -7.268178 -7.234837 -7.165567 -7.165357\n",
    " -7.137534 -7.231942 -7.225935 -7.16142  -7.183465 -7.257877 -7.279006\n",
    " -7.284249 -7.306481 -7.240192 -7.286245 -7.316336 -7.251441 -7.192566\n",
    " -7.191351 -7.065362 -7.050815 -7.116456 -7.186705 -7.242357 -7.240123\n",
    " -7.284564 -7.385903 -7.468834 -7.427641 -7.378051 -7.315574 -7.287397\n",
    " -7.262906 -7.197077 -7.187754 -7.136347 -7.149802 -7.301047 -7.281932\n",
    " -7.353314 -7.434607 -7.375526 -7.397572 -7.433974 -7.477175 -7.471739\n",
    " -7.474228 -7.51791  -7.525722 -7.52028  -7.534158 -7.539559 -7.53915\n",
    " -7.533163 -7.426446 -7.417031 -7.475554 -7.41521  -7.377752 -7.319138\n",
    " -7.20372  -7.294216 -7.290163 -7.310827 -7.302531 -7.339285 -7.252367\n",
    " -7.232718 -7.275662\"\"\""
   ]
  },
  {
   "cell_type": "code",
   "execution_count": 43,
   "metadata": {
    "collapsed": false
   },
   "outputs": [],
   "source": [
    "trace = map(float,trace_text.split())"
   ]
  },
  {
   "cell_type": "code",
   "execution_count": 44,
   "metadata": {
    "collapsed": false
   },
   "outputs": [],
   "source": [
    "import matplotlib.pyplot as plt\n",
    "%matplotlib inline \n",
    "# Jupyter-specific magic command, ignore for regular script"
   ]
  },
  {
   "cell_type": "code",
   "execution_count": 45,
   "metadata": {
    "collapsed": false
   },
   "outputs": [
    {
     "data": {
      "image/png": "[encoded data removed]",
      "text/plain": [
       "<matplotlib.figure.Figure at 0x7fb7e1b92bd0>"
      ]
     },
     "metadata": {},
     "output_type": "display_data"
    }
   ],
   "source": [
    "stuff = plt.plot(trace)\n",
    "# plt.show() needed for regular script"
   ]
  },
  {
   "cell_type": "code",
   "execution_count": 46,
   "metadata": {
    "collapsed": false
   },
   "outputs": [
    {
     "data": {
      "text/plain": [
       "<Container object of 3 artists>"
      ]
     },
     "execution_count": 46,
     "metadata": {},
     "output_type": "execute_result"
    },
    {
     "data": {
      "image/png": "[encoded data removed]",
      "text/plain": [
       "<matplotlib.figure.Figure at 0x7fb7dfb56210>"
      ]
     },
     "metadata": {},
     "output_type": "display_data"
    }
   ],
   "source": [
    "# suppose the entries have error\n",
    "err = np.std(trace) * np.random.rand(len(trace))\n",
    "plt.errorbar(range(len(trace)),trace,err)"
   ]
  },
  {
   "cell_type": "code",
   "execution_count": 47,
   "metadata": {
    "collapsed": false
   },
   "outputs": [
    {
     "data": {
      "text/plain": [
       "[<matplotlib.lines.Line2D at 0x7fb7dfa48a10>]"
      ]
     },
     "execution_count": 47,
     "metadata": {},
     "output_type": "execute_result"
    },
    {
     "data": {
      "image/png": "[encoded data removed]",
      "text/plain": [
       "<matplotlib.figure.Figure at 0x7fb7dfa545d0>"
      ]
     },
     "metadata": {},
     "output_type": "display_data"
    }
   ],
   "source": [
    "# see trend (correlation) with exponential smoothing\n",
    "import pandas as pd\n",
    "data = pd.Series(trace)\n",
    "plt.plot( trace )\n",
    "plt.plot( data.ewm(span=5).mean(),ls=\"--\",lw=2 )"
   ]
  },
  {
   "cell_type": "code",
   "execution_count": null,
   "metadata": {
    "collapsed": true
   },
   "outputs": [],
   "source": []
  }
 ],
 "metadata": {
  "kernelspec": {
   "display_name": "Python 2",
   "language": "python",
   "name": "python2"
  },
  "language_info": {
   "codemirror_mode": {
    "name": "ipython",
    "version": 2
   },
   "file_extension": ".py",
   "mimetype": "text/x-python",
   "name": "python",
   "nbconvert_exporter": "python",
   "pygments_lexer": "ipython2",
   "version": "2.7.12"
  }
 },
 "nbformat": 4,
 "nbformat_minor": 0
}
