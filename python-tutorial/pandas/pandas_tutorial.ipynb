{
 "cells": [
  {
   "cell_type": "code",
   "execution_count": 1,
   "metadata": {
    "collapsed": true
   },
   "outputs": [],
   "source": [
    "import pandas as pd"
   ]
  },
  {
   "cell_type": "markdown",
   "metadata": {},
   "source": [
    "### References"
   ]
  },
  {
   "cell_type": "markdown",
   "metadata": {},
   "source": [
    "There are many pandas tutorials out there, so I will not attempt to recreate one of them. Instead, I will show a practical example relating to quantum chemistry calculations of the hydrogen molecule ($H_2$). Hopefully this example will inspire you to start using pandas in your own research.\n",
    "\n",
    "[tutorials][tutorials]\n",
    "\n",
    "cheat sheet [1][1], [2][2]\n",
    "\n",
    "[1]:https://github.com/pandas-dev/pandas/blob/master/doc/cheatsheet/Pandas_Cheat_Sheet.pdf\n",
    "[2]:https://www.datacamp.com/community/blog/python-pandas-cheat-sheet#gs.UNw2qDY\n",
    "[tutorials]:http://pandas.pydata.org/pandas-docs/stable/tutorials.html"
   ]
  },
  {
   "cell_type": "markdown",
   "metadata": {},
   "source": [
    "## 1. Creating a DataFrame"
   ]
  },
  {
   "cell_type": "markdown",
   "metadata": {},
   "source": [
    "### Construct from dictionary"
   ]
  },
  {
   "cell_type": "markdown",
   "metadata": {},
   "source": [
    "To collect simulation data scattered across many folders, I build a list of dictionaries. One dictionary for a run."
   ]
  },
  {
   "cell_type": "code",
   "execution_count": 2,
   "metadata": {
    "collapsed": false
   },
   "outputs": [],
   "source": [
    "import sys\n",
    "sys.path.insert(0,'scripts')\n",
    "from parse_gms import parse_gms_inp,parse_gms_out"
   ]
  },
  {
   "cell_type": "markdown",
   "metadata": {},
   "source": [
    "In the data/h2_cis folder, I ran GAMESS to get the ground and first excited state energies of the H2 molecule at a number of bond lenths. I put a script in the scripts folder to parse GAMESS input and output. (do NOT open the script file, you will be horrified)"
   ]
  },
  {
   "cell_type": "code",
   "execution_count": 3,
   "metadata": {
    "collapsed": false
   },
   "outputs": [
    {
     "data": {
      "text/plain": [
       "{'cityp': 'cis',\n",
       " 'coord': 'unique',\n",
       " 'dist': 1.4,\n",
       " 'gbasis': 'cct',\n",
       " 'guess': 'huckel',\n",
       " 'icharg': '0',\n",
       " 'ispher': '1',\n",
       " 'mult': '1',\n",
       " 'nstate': '5',\n",
       " 'runtyp': 'energy',\n",
       " 'scftyp': 'rhf',\n",
       " 'units': 'bohr'}"
      ]
     },
     "execution_count": 3,
     "metadata": {},
     "output_type": "execute_result"
    }
   ],
   "source": [
    "# take input file and turn into dictionary\n",
    "parse_gms_inp('data/h2_cis/sep1.40/sep1.40-cis.inp')"
   ]
  },
  {
   "cell_type": "code",
   "execution_count": 4,
   "metadata": {
    "collapsed": false
   },
   "outputs": [
    {
     "data": {
      "text/plain": [
       "{'E0': -1.1329605255, 'E1': -0.6313262084}"
      ]
     },
     "execution_count": 4,
     "metadata": {},
     "output_type": "execute_result"
    }
   ],
   "source": [
    "# take output file and turn into dictionary\n",
    "parse_gms_out('data/h2_cis/sep1.40/sep1.40-cis.out')"
   ]
  },
  {
   "cell_type": "markdown",
   "metadata": {},
   "source": [
    "Construct a list of dictionaries by looping through the runs and parse every input-output pair."
   ]
  },
  {
   "cell_type": "code",
   "execution_count": 5,
   "metadata": {
    "collapsed": false
   },
   "outputs": [],
   "source": [
    "import os\n",
    "import subprocess as sp\n",
    "\n",
    "def collect(database,rundir):\n",
    "    if not os.path.isfile(database):\n",
    "        # find all input files\n",
    "        all_inps = sp.check_output(['find',rundir,'-ipath','*.inp']).split('\\n')[:-1]\n",
    "\n",
    "        data = []\n",
    "        for gms_inp in all_inps:\n",
    "\n",
    "            settings = parse_gms_inp(gms_inp) # get inputs\n",
    "            gms_out  = gms_inp.replace('inp','out') # assume output name\n",
    "            outputs  = parse_gms_out(gms_out) # get outputs\n",
    "\n",
    "            # glue input,output together\n",
    "            entry = outputs\n",
    "            entry.update({'settings':settings})\n",
    "            # simply entry.update(settings), if you want all settings to be exposed\n",
    "\n",
    "            # I also store run path, because folder name is sometimes useful\n",
    "            path   = os.path.dirname(gms_inp) \n",
    "            entry.update({'path':path}) \n",
    "\n",
    "            data.append(entry)\n",
    "        # end for\n",
    "        df = pd.DataFrame(data)\n",
    "        df.to_json(database) # I always save data to file to avoid rerunning analysis\n",
    "\n",
    "    else:\n",
    "        df = pd.read_json(database)\n",
    "    # end if\n",
    "    return df\n",
    "# end def collect\n",
    "\n",
    "database = 'data/h2_cct.json'\n",
    "rundir   = 'data/h2_cis/'\n",
    "df0 = collect(database,rundir)"
   ]
  },
  {
   "cell_type": "code",
   "execution_count": 6,
   "metadata": {
    "collapsed": false
   },
   "outputs": [
    {
     "data": {
      "text/html": [
       "<div>\n",
       "<table border=\"1\" class=\"dataframe\">\n",
       "  <thead>\n",
       "    <tr style=\"text-align: right;\">\n",
       "      <th></th>\n",
       "      <th>E0</th>\n",
       "      <th>E1</th>\n",
       "      <th>path</th>\n",
       "      <th>settings</th>\n",
       "    </tr>\n",
       "  </thead>\n",
       "  <tbody>\n",
       "    <tr>\n",
       "      <th>0</th>\n",
       "      <td>-1.091084</td>\n",
       "      <td>-0.687865</td>\n",
       "      <td>data/h2_cis/sep2.00</td>\n",
       "      <td>{u'scftyp': u'rhf', u'guess': u'huckel', u'nst...</td>\n",
       "    </tr>\n",
       "    <tr>\n",
       "      <th>1</th>\n",
       "      <td>-1.017630</td>\n",
       "      <td>-0.696946</td>\n",
       "      <td>data/h2_cis/sep2.70</td>\n",
       "      <td>{u'scftyp': u'rhf', u'guess': u'huckel', u'nst...</td>\n",
       "    </tr>\n",
       "    <tr>\n",
       "      <th>10</th>\n",
       "      <td>-1.110410</td>\n",
       "      <td>-0.677497</td>\n",
       "      <td>data/h2_cis/sep1.80</td>\n",
       "      <td>{u'scftyp': u'rhf', u'guess': u'huckel', u'nst...</td>\n",
       "    </tr>\n",
       "    <tr>\n",
       "      <th>11</th>\n",
       "      <td>-1.109381</td>\n",
       "      <td>-0.546966</td>\n",
       "      <td>data/h2_cis/sep1.10</td>\n",
       "      <td>{u'scftyp': u'rhf', u'guess': u'huckel', u'nst...</td>\n",
       "    </tr>\n",
       "    <tr>\n",
       "      <th>12</th>\n",
       "      <td>-1.042448</td>\n",
       "      <td>-0.434778</td>\n",
       "      <td>data/h2_cis/sep0.90</td>\n",
       "      <td>{u'scftyp': u'rhf', u'guess': u'huckel', u'nst...</td>\n",
       "    </tr>\n",
       "  </tbody>\n",
       "</table>\n",
       "</div>"
      ],
      "text/plain": [
       "          E0        E1                 path  \\\n",
       "0  -1.091084 -0.687865  data/h2_cis/sep2.00   \n",
       "1  -1.017630 -0.696946  data/h2_cis/sep2.70   \n",
       "10 -1.110410 -0.677497  data/h2_cis/sep1.80   \n",
       "11 -1.109381 -0.546966  data/h2_cis/sep1.10   \n",
       "12 -1.042448 -0.434778  data/h2_cis/sep0.90   \n",
       "\n",
       "                                             settings  \n",
       "0   {u'scftyp': u'rhf', u'guess': u'huckel', u'nst...  \n",
       "1   {u'scftyp': u'rhf', u'guess': u'huckel', u'nst...  \n",
       "10  {u'scftyp': u'rhf', u'guess': u'huckel', u'nst...  \n",
       "11  {u'scftyp': u'rhf', u'guess': u'huckel', u'nst...  \n",
       "12  {u'scftyp': u'rhf', u'guess': u'huckel', u'nst...  "
      ]
     },
     "execution_count": 6,
     "metadata": {},
     "output_type": "execute_result"
    }
   ],
   "source": [
    "df0.head()"
   ]
  },
  {
   "cell_type": "code",
   "execution_count": 7,
   "metadata": {
    "collapsed": false
   },
   "outputs": [
    {
     "data": {
      "text/html": [
       "<div>\n",
       "<table border=\"1\" class=\"dataframe\">\n",
       "  <thead>\n",
       "    <tr style=\"text-align: right;\">\n",
       "      <th></th>\n",
       "      <th>cityp</th>\n",
       "      <th>coord</th>\n",
       "      <th>dist</th>\n",
       "      <th>gbasis</th>\n",
       "      <th>guess</th>\n",
       "      <th>icharg</th>\n",
       "      <th>ispher</th>\n",
       "      <th>mult</th>\n",
       "      <th>nstate</th>\n",
       "      <th>runtyp</th>\n",
       "      <th>scftyp</th>\n",
       "      <th>units</th>\n",
       "    </tr>\n",
       "  </thead>\n",
       "  <tbody>\n",
       "    <tr>\n",
       "      <th>0</th>\n",
       "      <td>cis</td>\n",
       "      <td>unique</td>\n",
       "      <td>2.0</td>\n",
       "      <td>cct</td>\n",
       "      <td>huckel</td>\n",
       "      <td>0</td>\n",
       "      <td>1</td>\n",
       "      <td>1</td>\n",
       "      <td>5</td>\n",
       "      <td>energy</td>\n",
       "      <td>rhf</td>\n",
       "      <td>bohr</td>\n",
       "    </tr>\n",
       "    <tr>\n",
       "      <th>1</th>\n",
       "      <td>cis</td>\n",
       "      <td>unique</td>\n",
       "      <td>2.7</td>\n",
       "      <td>cct</td>\n",
       "      <td>huckel</td>\n",
       "      <td>0</td>\n",
       "      <td>1</td>\n",
       "      <td>1</td>\n",
       "      <td>5</td>\n",
       "      <td>energy</td>\n",
       "      <td>rhf</td>\n",
       "      <td>bohr</td>\n",
       "    </tr>\n",
       "    <tr>\n",
       "      <th>10</th>\n",
       "      <td>cis</td>\n",
       "      <td>unique</td>\n",
       "      <td>1.8</td>\n",
       "      <td>cct</td>\n",
       "      <td>huckel</td>\n",
       "      <td>0</td>\n",
       "      <td>1</td>\n",
       "      <td>1</td>\n",
       "      <td>5</td>\n",
       "      <td>energy</td>\n",
       "      <td>rhf</td>\n",
       "      <td>bohr</td>\n",
       "    </tr>\n",
       "    <tr>\n",
       "      <th>11</th>\n",
       "      <td>cis</td>\n",
       "      <td>unique</td>\n",
       "      <td>1.1</td>\n",
       "      <td>cct</td>\n",
       "      <td>huckel</td>\n",
       "      <td>0</td>\n",
       "      <td>1</td>\n",
       "      <td>1</td>\n",
       "      <td>5</td>\n",
       "      <td>energy</td>\n",
       "      <td>rhf</td>\n",
       "      <td>bohr</td>\n",
       "    </tr>\n",
       "    <tr>\n",
       "      <th>12</th>\n",
       "      <td>cis</td>\n",
       "      <td>unique</td>\n",
       "      <td>0.9</td>\n",
       "      <td>cct</td>\n",
       "      <td>huckel</td>\n",
       "      <td>0</td>\n",
       "      <td>1</td>\n",
       "      <td>1</td>\n",
       "      <td>5</td>\n",
       "      <td>energy</td>\n",
       "      <td>rhf</td>\n",
       "      <td>bohr</td>\n",
       "    </tr>\n",
       "  </tbody>\n",
       "</table>\n",
       "</div>"
      ],
      "text/plain": [
       "   cityp   coord  dist gbasis   guess icharg ispher mult nstate  runtyp  \\\n",
       "0    cis  unique   2.0    cct  huckel      0      1    1      5  energy   \n",
       "1    cis  unique   2.7    cct  huckel      0      1    1      5  energy   \n",
       "10   cis  unique   1.8    cct  huckel      0      1    1      5  energy   \n",
       "11   cis  unique   1.1    cct  huckel      0      1    1      5  energy   \n",
       "12   cis  unique   0.9    cct  huckel      0      1    1      5  energy   \n",
       "\n",
       "   scftyp units  \n",
       "0     rhf  bohr  \n",
       "1     rhf  bohr  \n",
       "10    rhf  bohr  \n",
       "11    rhf  bohr  \n",
       "12    rhf  bohr  "
      ]
     },
     "execution_count": 7,
     "metadata": {},
     "output_type": "execute_result"
    }
   ],
   "source": [
    "df0['settings'].apply(pd.Series).head()"
   ]
  },
  {
   "cell_type": "code",
   "execution_count": 8,
   "metadata": {
    "collapsed": false
   },
   "outputs": [
    {
     "data": {
      "text/html": [
       "<div>\n",
       "<table border=\"1\" class=\"dataframe\">\n",
       "  <thead>\n",
       "    <tr style=\"text-align: right;\">\n",
       "      <th></th>\n",
       "      <th>cityp</th>\n",
       "      <th>coord</th>\n",
       "      <th>dist</th>\n",
       "      <th>gbasis</th>\n",
       "      <th>guess</th>\n",
       "      <th>icharg</th>\n",
       "      <th>ispher</th>\n",
       "      <th>mult</th>\n",
       "      <th>nstate</th>\n",
       "      <th>runtyp</th>\n",
       "      <th>scftyp</th>\n",
       "      <th>units</th>\n",
       "      <th>E0</th>\n",
       "      <th>E1</th>\n",
       "      <th>path</th>\n",
       "    </tr>\n",
       "  </thead>\n",
       "  <tbody>\n",
       "    <tr>\n",
       "      <th>0</th>\n",
       "      <td>cis</td>\n",
       "      <td>unique</td>\n",
       "      <td>2.0</td>\n",
       "      <td>cct</td>\n",
       "      <td>huckel</td>\n",
       "      <td>0</td>\n",
       "      <td>1</td>\n",
       "      <td>1</td>\n",
       "      <td>5</td>\n",
       "      <td>energy</td>\n",
       "      <td>rhf</td>\n",
       "      <td>bohr</td>\n",
       "      <td>-1.091084</td>\n",
       "      <td>-0.687865</td>\n",
       "      <td>data/h2_cis/sep2.00</td>\n",
       "    </tr>\n",
       "    <tr>\n",
       "      <th>1</th>\n",
       "      <td>cis</td>\n",
       "      <td>unique</td>\n",
       "      <td>2.7</td>\n",
       "      <td>cct</td>\n",
       "      <td>huckel</td>\n",
       "      <td>0</td>\n",
       "      <td>1</td>\n",
       "      <td>1</td>\n",
       "      <td>5</td>\n",
       "      <td>energy</td>\n",
       "      <td>rhf</td>\n",
       "      <td>bohr</td>\n",
       "      <td>-1.017630</td>\n",
       "      <td>-0.696946</td>\n",
       "      <td>data/h2_cis/sep2.70</td>\n",
       "    </tr>\n",
       "    <tr>\n",
       "      <th>10</th>\n",
       "      <td>cis</td>\n",
       "      <td>unique</td>\n",
       "      <td>1.8</td>\n",
       "      <td>cct</td>\n",
       "      <td>huckel</td>\n",
       "      <td>0</td>\n",
       "      <td>1</td>\n",
       "      <td>1</td>\n",
       "      <td>5</td>\n",
       "      <td>energy</td>\n",
       "      <td>rhf</td>\n",
       "      <td>bohr</td>\n",
       "      <td>-1.110410</td>\n",
       "      <td>-0.677497</td>\n",
       "      <td>data/h2_cis/sep1.80</td>\n",
       "    </tr>\n",
       "    <tr>\n",
       "      <th>11</th>\n",
       "      <td>cis</td>\n",
       "      <td>unique</td>\n",
       "      <td>1.1</td>\n",
       "      <td>cct</td>\n",
       "      <td>huckel</td>\n",
       "      <td>0</td>\n",
       "      <td>1</td>\n",
       "      <td>1</td>\n",
       "      <td>5</td>\n",
       "      <td>energy</td>\n",
       "      <td>rhf</td>\n",
       "      <td>bohr</td>\n",
       "      <td>-1.109381</td>\n",
       "      <td>-0.546966</td>\n",
       "      <td>data/h2_cis/sep1.10</td>\n",
       "    </tr>\n",
       "    <tr>\n",
       "      <th>12</th>\n",
       "      <td>cis</td>\n",
       "      <td>unique</td>\n",
       "      <td>0.9</td>\n",
       "      <td>cct</td>\n",
       "      <td>huckel</td>\n",
       "      <td>0</td>\n",
       "      <td>1</td>\n",
       "      <td>1</td>\n",
       "      <td>5</td>\n",
       "      <td>energy</td>\n",
       "      <td>rhf</td>\n",
       "      <td>bohr</td>\n",
       "      <td>-1.042448</td>\n",
       "      <td>-0.434778</td>\n",
       "      <td>data/h2_cis/sep0.90</td>\n",
       "    </tr>\n",
       "  </tbody>\n",
       "</table>\n",
       "</div>"
      ],
      "text/plain": [
       "   cityp   coord  dist gbasis   guess icharg ispher mult nstate  runtyp  \\\n",
       "0    cis  unique   2.0    cct  huckel      0      1    1      5  energy   \n",
       "1    cis  unique   2.7    cct  huckel      0      1    1      5  energy   \n",
       "10   cis  unique   1.8    cct  huckel      0      1    1      5  energy   \n",
       "11   cis  unique   1.1    cct  huckel      0      1    1      5  energy   \n",
       "12   cis  unique   0.9    cct  huckel      0      1    1      5  energy   \n",
       "\n",
       "   scftyp units        E0        E1                 path  \n",
       "0     rhf  bohr -1.091084 -0.687865  data/h2_cis/sep2.00  \n",
       "1     rhf  bohr -1.017630 -0.696946  data/h2_cis/sep2.70  \n",
       "10    rhf  bohr -1.110410 -0.677497  data/h2_cis/sep1.80  \n",
       "11    rhf  bohr -1.109381 -0.546966  data/h2_cis/sep1.10  \n",
       "12    rhf  bohr -1.042448 -0.434778  data/h2_cis/sep0.90  "
      ]
     },
     "execution_count": 8,
     "metadata": {},
     "output_type": "execute_result"
    }
   ],
   "source": [
    "# if you want all settings to be exposed\n",
    "flat_df = pd.concat( [df0['settings'].apply(pd.Series),df0],axis=1 \n",
    "         ).drop('settings',axis=1)\n",
    "flat_df.head()"
   ]
  },
  {
   "cell_type": "markdown",
   "metadata": {},
   "source": [
    "## 2. Selecting data from DataFrame"
   ]
  },
  {
   "cell_type": "markdown",
   "metadata": {},
   "source": [
    "first let me show you the energy surfaces of $H_2$"
   ]
  },
  {
   "cell_type": "code",
   "execution_count": 9,
   "metadata": {
    "collapsed": false
   },
   "outputs": [
    {
     "data": {
      "text/html": [
       "<div>\n",
       "<table border=\"1\" class=\"dataframe\">\n",
       "  <thead>\n",
       "    <tr style=\"text-align: right;\">\n",
       "      <th></th>\n",
       "      <th>dist</th>\n",
       "      <th>E0</th>\n",
       "      <th>E1</th>\n",
       "    </tr>\n",
       "  </thead>\n",
       "  <tbody>\n",
       "    <tr>\n",
       "      <th>14</th>\n",
       "      <td>0.8</td>\n",
       "      <td>-0.978110</td>\n",
       "      <td>-0.346066</td>\n",
       "    </tr>\n",
       "    <tr>\n",
       "      <th>12</th>\n",
       "      <td>0.9</td>\n",
       "      <td>-1.042448</td>\n",
       "      <td>-0.434778</td>\n",
       "    </tr>\n",
       "    <tr>\n",
       "      <th>19</th>\n",
       "      <td>1.0</td>\n",
       "      <td>-1.083744</td>\n",
       "      <td>-0.499201</td>\n",
       "    </tr>\n",
       "    <tr>\n",
       "      <th>11</th>\n",
       "      <td>1.1</td>\n",
       "      <td>-1.109381</td>\n",
       "      <td>-0.546966</td>\n",
       "    </tr>\n",
       "    <tr>\n",
       "      <th>17</th>\n",
       "      <td>1.2</td>\n",
       "      <td>-1.124154</td>\n",
       "      <td>-0.582934</td>\n",
       "    </tr>\n",
       "  </tbody>\n",
       "</table>\n",
       "</div>"
      ],
      "text/plain": [
       "    dist        E0        E1\n",
       "14   0.8 -0.978110 -0.346066\n",
       "12   0.9 -1.042448 -0.434778\n",
       "19   1.0 -1.083744 -0.499201\n",
       "11   1.1 -1.109381 -0.546966\n",
       "17   1.2 -1.124154 -0.582934"
      ]
     },
     "execution_count": 9,
     "metadata": {},
     "output_type": "execute_result"
    }
   ],
   "source": [
    "import matplotlib.pyplot as plt\n",
    "%matplotlib inline\n",
    "\n",
    "# select columns, and sort by bond length\n",
    "mydf = flat_df[['dist','E0','E1']].sort_values('dist')\n",
    "mydf.head()"
   ]
  },
  {
   "cell_type": "code",
   "execution_count": 10,
   "metadata": {
    "collapsed": false
   },
   "outputs": [
    {
     "data": {
      "text/plain": [
       "<matplotlib.legend.Legend at 0x7f3bbebd9790>"
      ]
     },
     "execution_count": 10,
     "metadata": {},
     "output_type": "execute_result"
    },
    {
     "data": {
      "image/png": "[encoded data removed]",
      "text/plain": [
       "<matplotlib.figure.Figure at 0x7f3bc15e9750>"
      ]
     },
     "metadata": {},
     "output_type": "display_data"
    }
   ],
   "source": [
    "# Fig. 1: visualize data\n",
    "fig,ax = plt.subplots(1,1)\n",
    "ax.set_xlabel('r (bohr)',fontsize=16)\n",
    "ax.set_ylabel('energy (Ha)',fontsize=16)\n",
    "\n",
    "ax.plot(mydf['dist'],mydf['E0'],'o-',label='ground')\n",
    "ax.plot(mydf['dist'],mydf['E1'],'^-',label='excited')\n",
    "ax.legend()"
   ]
  },
  {
   "cell_type": "markdown",
   "metadata": {},
   "source": [
    "Rows can be selected by index,"
   ]
  },
  {
   "cell_type": "code",
   "execution_count": 11,
   "metadata": {
    "collapsed": false
   },
   "outputs": [
    {
     "data": {
      "text/html": [
       "<div>\n",
       "<table border=\"1\" class=\"dataframe\">\n",
       "  <thead>\n",
       "    <tr style=\"text-align: right;\">\n",
       "      <th></th>\n",
       "      <th>dist</th>\n",
       "      <th>E0</th>\n",
       "      <th>E1</th>\n",
       "    </tr>\n",
       "  </thead>\n",
       "  <tbody>\n",
       "    <tr>\n",
       "      <th>21</th>\n",
       "      <td>2.4</td>\n",
       "      <td>-1.048757</td>\n",
       "      <td>-0.696558</td>\n",
       "    </tr>\n",
       "    <tr>\n",
       "      <th>10</th>\n",
       "      <td>1.8</td>\n",
       "      <td>-1.110410</td>\n",
       "      <td>-0.677497</td>\n",
       "    </tr>\n",
       "  </tbody>\n",
       "</table>\n",
       "</div>"
      ],
      "text/plain": [
       "    dist        E0        E1\n",
       "21   2.4 -1.048757 -0.696558\n",
       "10   1.8 -1.110410 -0.677497"
      ]
     },
     "execution_count": 11,
     "metadata": {},
     "output_type": "execute_result"
    }
   ],
   "source": [
    "mydf.loc[[21,10]] # select rows with index 21 and 10"
   ]
  },
  {
   "cell_type": "markdown",
   "metadata": {},
   "source": [
    "or by position."
   ]
  },
  {
   "cell_type": "code",
   "execution_count": 12,
   "metadata": {
    "collapsed": false
   },
   "outputs": [
    {
     "data": {
      "text/html": [
       "<div>\n",
       "<table border=\"1\" class=\"dataframe\">\n",
       "  <thead>\n",
       "    <tr style=\"text-align: right;\">\n",
       "      <th></th>\n",
       "      <th>dist</th>\n",
       "      <th>E0</th>\n",
       "      <th>E1</th>\n",
       "    </tr>\n",
       "  </thead>\n",
       "  <tbody>\n",
       "    <tr>\n",
       "      <th>14</th>\n",
       "      <td>0.8</td>\n",
       "      <td>-0.978110</td>\n",
       "      <td>-0.346066</td>\n",
       "    </tr>\n",
       "    <tr>\n",
       "      <th>12</th>\n",
       "      <td>0.9</td>\n",
       "      <td>-1.042448</td>\n",
       "      <td>-0.434778</td>\n",
       "    </tr>\n",
       "  </tbody>\n",
       "</table>\n",
       "</div>"
      ],
      "text/plain": [
       "    dist        E0        E1\n",
       "14   0.8 -0.978110 -0.346066\n",
       "12   0.9 -1.042448 -0.434778"
      ]
     },
     "execution_count": 12,
     "metadata": {},
     "output_type": "execute_result"
    }
   ],
   "source": [
    "mydf.iloc[0:2] # select first two rows in mydf"
   ]
  },
  {
   "cell_type": "markdown",
   "metadata": {},
   "source": [
    "The most useful selection method is probably by boolean array."
   ]
  },
  {
   "cell_type": "code",
   "execution_count": 13,
   "metadata": {
    "collapsed": false
   },
   "outputs": [
    {
     "data": {
      "text/html": [
       "<div>\n",
       "<table border=\"1\" class=\"dataframe\">\n",
       "  <thead>\n",
       "    <tr style=\"text-align: right;\">\n",
       "      <th></th>\n",
       "      <th>dist</th>\n",
       "      <th>E0</th>\n",
       "      <th>E1</th>\n",
       "    </tr>\n",
       "  </thead>\n",
       "  <tbody>\n",
       "    <tr>\n",
       "      <th>14</th>\n",
       "      <td>0.8</td>\n",
       "      <td>-0.978110</td>\n",
       "      <td>-0.346066</td>\n",
       "    </tr>\n",
       "    <tr>\n",
       "      <th>12</th>\n",
       "      <td>0.9</td>\n",
       "      <td>-1.042448</td>\n",
       "      <td>-0.434778</td>\n",
       "    </tr>\n",
       "  </tbody>\n",
       "</table>\n",
       "</div>"
      ],
      "text/plain": [
       "    dist        E0        E1\n",
       "14   0.8 -0.978110 -0.346066\n",
       "12   0.9 -1.042448 -0.434778"
      ]
     },
     "execution_count": 13,
     "metadata": {},
     "output_type": "execute_result"
    }
   ],
   "source": [
    "sel = mydf['dist']<1.0 # all points with bond length < 1 bohr\n",
    "mydf.loc[sel]"
   ]
  },
  {
   "cell_type": "markdown",
   "metadata": {},
   "source": [
    "Column selection can be done at the same time."
   ]
  },
  {
   "cell_type": "code",
   "execution_count": 14,
   "metadata": {
    "collapsed": false
   },
   "outputs": [
    {
     "data": {
      "text/html": [
       "<div>\n",
       "<table border=\"1\" class=\"dataframe\">\n",
       "  <thead>\n",
       "    <tr style=\"text-align: right;\">\n",
       "      <th></th>\n",
       "      <th>E0</th>\n",
       "      <th>E1</th>\n",
       "    </tr>\n",
       "  </thead>\n",
       "  <tbody>\n",
       "    <tr>\n",
       "      <th>14</th>\n",
       "      <td>-0.978110</td>\n",
       "      <td>-0.346066</td>\n",
       "    </tr>\n",
       "    <tr>\n",
       "      <th>12</th>\n",
       "      <td>-1.042448</td>\n",
       "      <td>-0.434778</td>\n",
       "    </tr>\n",
       "  </tbody>\n",
       "</table>\n",
       "</div>"
      ],
      "text/plain": [
       "          E0        E1\n",
       "14 -0.978110 -0.346066\n",
       "12 -1.042448 -0.434778"
      ]
     },
     "execution_count": 14,
     "metadata": {},
     "output_type": "execute_result"
    }
   ],
   "source": [
    "mydf.loc[sel,['E0','E1']]"
   ]
  },
  {
   "cell_type": "markdown",
   "metadata": {},
   "source": [
    "# OMG my advisor wants me to change a parameter!"
   ]
  },
  {
   "cell_type": "markdown",
   "metadata": {},
   "source": [
    "I did a lousy job with the second batch of runs. There are missing data, is that a problem?"
   ]
  },
  {
   "cell_type": "code",
   "execution_count": 15,
   "metadata": {
    "collapsed": false
   },
   "outputs": [],
   "source": [
    "# first load new data, add to current DataFrame\n",
    "database = 'data/h2_ccd.json'\n",
    "rundir   = 'data/ccd_cis/'\n",
    "df1 = collect(database,rundir)\n",
    "\n",
    "df_combined = pd.concat([df0,df1]).reset_index(drop=True)\n",
    "# unwrap settings\n",
    "df = pd.concat( [df_combined['settings'].apply(pd.Series),df_combined],axis=1 \n",
    "         ).drop('settings',axis=1)"
   ]
  },
  {
   "cell_type": "code",
   "execution_count": 16,
   "metadata": {
    "collapsed": false
   },
   "outputs": [
    {
     "data": {
      "text/plain": [
       "array([u'cct', 'ccd'], dtype=object)"
      ]
     },
     "execution_count": 16,
     "metadata": {},
     "output_type": "execute_result"
    }
   ],
   "source": [
    "# I changed the quantum chemistry basis set\n",
    "df['gbasis'].unique()"
   ]
  },
  {
   "cell_type": "code",
   "execution_count": 17,
   "metadata": {
    "collapsed": false
   },
   "outputs": [
    {
     "data": {
      "text/plain": [
       "<matplotlib.legend.Legend at 0x7f3bbeb98250>"
      ]
     },
     "execution_count": 17,
     "metadata": {},
     "output_type": "execute_result"
    },
    {
     "data": {
      "image/png": "[encoded data removed]",
      "text/plain": [
       "<matplotlib.figure.Figure at 0x7f3bbec0d710>"
      ]
     },
     "metadata": {},
     "output_type": "display_data"
    }
   ],
   "source": [
    "# Fig. 2: visualize new data\n",
    "ccd_df = df.loc[df['gbasis']=='ccd'\n",
    "    ,['dist','E0','E1']].sort_values('dist')\n",
    "cct_df = df.loc[df['gbasis']=='cct'\n",
    "    ,['dist','E0','E1']].sort_values('dist')\n",
    "\n",
    "fig,ax = plt.subplots(1,1)\n",
    "ax.set_xlabel('r (bohr)',fontsize=16)\n",
    "ax.set_ylabel('energy (Ha)',fontsize=16)\n",
    "\n",
    "ax.plot(cct_df['dist'],cct_df['E0'],'o-',label='ground cct')\n",
    "ax.plot(cct_df['dist'],cct_df['E1'],'^-',label='excited cct')\n",
    "\n",
    "ax.plot(ccd_df['dist'],ccd_df['E0'],'x--',label='ground ccd',mew=2)\n",
    "ax.plot(ccd_df['dist'],ccd_df['E1'],'+--',label='excited ccd',mew=2)\n",
    "ax.legend()"
   ]
  },
  {
   "cell_type": "markdown",
   "metadata": {},
   "source": [
    "we see that the answers are not sensitive to basis set, phew..."
   ]
  },
  {
   "cell_type": "markdown",
   "metadata": {},
   "source": [
    "now we quantify the effect of the parameter change"
   ]
  },
  {
   "cell_type": "code",
   "execution_count": 18,
   "metadata": {
    "collapsed": false
   },
   "outputs": [
    {
     "data": {
      "text/html": [
       "<div>\n",
       "<table border=\"1\" class=\"dataframe\">\n",
       "  <thead>\n",
       "    <tr style=\"text-align: right;\">\n",
       "      <th>gbasis</th>\n",
       "      <th>ccd</th>\n",
       "      <th>cct</th>\n",
       "    </tr>\n",
       "    <tr>\n",
       "      <th>dist</th>\n",
       "      <th></th>\n",
       "      <th></th>\n",
       "    </tr>\n",
       "  </thead>\n",
       "  <tbody>\n",
       "    <tr>\n",
       "      <th>0.8</th>\n",
       "      <td>NaN</td>\n",
       "      <td>-0.978110</td>\n",
       "    </tr>\n",
       "    <tr>\n",
       "      <th>0.9</th>\n",
       "      <td>NaN</td>\n",
       "      <td>-1.042448</td>\n",
       "    </tr>\n",
       "    <tr>\n",
       "      <th>1.0</th>\n",
       "      <td>-1.071355</td>\n",
       "      <td>-1.083744</td>\n",
       "    </tr>\n",
       "    <tr>\n",
       "      <th>1.1</th>\n",
       "      <td>-1.100029</td>\n",
       "      <td>-1.109381</td>\n",
       "    </tr>\n",
       "    <tr>\n",
       "      <th>1.2</th>\n",
       "      <td>-1.117042</td>\n",
       "      <td>-1.124154</td>\n",
       "    </tr>\n",
       "  </tbody>\n",
       "</table>\n",
       "</div>"
      ],
      "text/plain": [
       "gbasis       ccd       cct\n",
       "dist                      \n",
       "0.8          NaN -0.978110\n",
       "0.9          NaN -1.042448\n",
       "1.0    -1.071355 -1.083744\n",
       "1.1    -1.100029 -1.109381\n",
       "1.2    -1.117042 -1.124154"
      ]
     },
     "execution_count": 18,
     "metadata": {},
     "output_type": "execute_result"
    }
   ],
   "source": [
    "# list out the energies as a function of data and parameter\n",
    "compare = df.pivot('dist','gbasis','E0')\n",
    "compare.head()\n",
    "# we see two missing data for gbasis=ccd"
   ]
  },
  {
   "cell_type": "markdown",
   "metadata": {},
   "source": [
    "You can drop missing data with df.dropna(), but many functions still work even with missing data"
   ]
  },
  {
   "cell_type": "code",
   "execution_count": 19,
   "metadata": {
    "collapsed": false
   },
   "outputs": [
    {
     "name": "stdout",
     "output_type": "stream",
     "text": [
      "gbasis\n",
      "ccd   -1.076890\n",
      "cct   -1.074011\n",
      "dtype: float64\n",
      "gbasis\n",
      "ccd   -1.074808\n",
      "cct   -1.078363\n",
      "dtype: float64\n"
     ]
    }
   ],
   "source": [
    "import numpy as np\n",
    "# pandas can't care less if data is missing or not\n",
    "print compare.mean()\n",
    "# however, in this case, we need to drop the missing data for a fair comparison\n",
    "print compare.dropna().mean()"
   ]
  },
  {
   "cell_type": "markdown",
   "metadata": {},
   "source": [
    "Only after dropping the nan do we see that the cct basis set gives lower energy, as is evident from the plot. Lesson: check your nans!"
   ]
  },
  {
   "cell_type": "code",
   "execution_count": 20,
   "metadata": {
    "collapsed": false
   },
   "outputs": [
    {
     "data": {
      "text/plain": [
       "gbasis\n",
       "ccd    True\n",
       "cct    True\n",
       "dtype: bool"
      ]
     },
     "execution_count": 20,
     "metadata": {},
     "output_type": "execute_result"
    }
   ],
   "source": [
    "compare.isnull().any()"
   ]
  },
  {
   "cell_type": "markdown",
   "metadata": {},
   "source": [
    "## 3. Column operations"
   ]
  },
  {
   "cell_type": "code",
   "execution_count": 21,
   "metadata": {
    "collapsed": false
   },
   "outputs": [
    {
     "data": {
      "text/html": [
       "<div>\n",
       "<table border=\"1\" class=\"dataframe\">\n",
       "  <thead>\n",
       "    <tr style=\"text-align: right;\">\n",
       "      <th></th>\n",
       "      <th>mean</th>\n",
       "      <th>std</th>\n",
       "      <th>len</th>\n",
       "    </tr>\n",
       "    <tr>\n",
       "      <th>gbasis</th>\n",
       "      <th></th>\n",
       "      <th></th>\n",
       "      <th></th>\n",
       "    </tr>\n",
       "  </thead>\n",
       "  <tbody>\n",
       "    <tr>\n",
       "      <th>ccd</th>\n",
       "      <td>-1.076890</td>\n",
       "      <td>0.043606</td>\n",
       "      <td>20.0</td>\n",
       "    </tr>\n",
       "    <tr>\n",
       "      <th>cct</th>\n",
       "      <td>-1.074011</td>\n",
       "      <td>0.048177</td>\n",
       "      <td>22.0</td>\n",
       "    </tr>\n",
       "  </tbody>\n",
       "</table>\n",
       "</div>"
      ],
      "text/plain": [
       "            mean       std   len\n",
       "gbasis                          \n",
       "ccd    -1.076890  0.043606  20.0\n",
       "cct    -1.074011  0.048177  22.0"
      ]
     },
     "execution_count": 21,
     "metadata": {},
     "output_type": "execute_result"
    }
   ],
   "source": [
    "# aggregate is also helpful for high level view of data\n",
    "df.groupby('gbasis')['E0'].agg([np.mean,np.std,len])"
   ]
  },
  {
   "cell_type": "code",
   "execution_count": 22,
   "metadata": {
    "collapsed": false
   },
   "outputs": [
    {
     "data": {
      "text/html": [
       "<div>\n",
       "<table border=\"1\" class=\"dataframe\">\n",
       "  <thead>\n",
       "    <tr>\n",
       "      <th></th>\n",
       "      <th>E1</th>\n",
       "      <th colspan=\"3\" halign=\"left\">E0</th>\n",
       "    </tr>\n",
       "    <tr>\n",
       "      <th></th>\n",
       "      <th>mean</th>\n",
       "      <th>mean</th>\n",
       "      <th>std</th>\n",
       "      <th>len</th>\n",
       "    </tr>\n",
       "    <tr>\n",
       "      <th>gbasis</th>\n",
       "      <th></th>\n",
       "      <th></th>\n",
       "      <th></th>\n",
       "      <th></th>\n",
       "    </tr>\n",
       "  </thead>\n",
       "  <tbody>\n",
       "    <tr>\n",
       "      <th>ccd</th>\n",
       "      <td>-0.640396</td>\n",
       "      <td>-1.076890</td>\n",
       "      <td>0.043606</td>\n",
       "      <td>20.0</td>\n",
       "    </tr>\n",
       "    <tr>\n",
       "      <th>cct</th>\n",
       "      <td>-0.633541</td>\n",
       "      <td>-1.074011</td>\n",
       "      <td>0.048177</td>\n",
       "      <td>22.0</td>\n",
       "    </tr>\n",
       "  </tbody>\n",
       "</table>\n",
       "</div>"
      ],
      "text/plain": [
       "              E1        E0                \n",
       "            mean      mean       std   len\n",
       "gbasis                                    \n",
       "ccd    -0.640396 -1.076890  0.043606  20.0\n",
       "cct    -0.633541 -1.074011  0.048177  22.0"
      ]
     },
     "execution_count": 22,
     "metadata": {},
     "output_type": "execute_result"
    }
   ],
   "source": [
    "# different sets of functions can be applied to different columns!\n",
    "df.groupby('gbasis')['E0','E1'].agg({'E0':[np.mean,np.std,len],'E1':np.mean})"
   ]
  },
  {
   "cell_type": "markdown",
   "metadata": {},
   "source": [
    "### simple column algebra like excel"
   ]
  },
  {
   "cell_type": "markdown",
   "metadata": {},
   "source": [
    "some chemists do not like atomic units, so I have to convert bohr to angstrom and hatree to ev *face palm*. This is where aggregate comes in handy"
   ]
  },
  {
   "cell_type": "code",
   "execution_count": 23,
   "metadata": {
    "collapsed": true
   },
   "outputs": [],
   "source": [
    "df['dist_ang'] = df['dist']*0.529\n",
    "df['E0_ev'] = df['E0'] * 27"
   ]
  },
  {
   "cell_type": "markdown",
   "metadata": {},
   "source": [
    "## 4. Row comparisons"
   ]
  },
  {
   "cell_type": "markdown",
   "metadata": {},
   "source": [
    "Suppose I want to plot the difference between the curves between ccd and cct in Fig. 2. We will have to select out the appropriate entries and subtract. Pandas can handle this elegantly"
   ]
  },
  {
   "cell_type": "code",
   "execution_count": 24,
   "metadata": {
    "collapsed": false
   },
   "outputs": [],
   "source": [
    "# energy gained by switching from ccd to cct\n",
    "diff = ccd_df.set_index('dist') - cct_df.set_index('dist')"
   ]
  },
  {
   "cell_type": "code",
   "execution_count": 25,
   "metadata": {
    "collapsed": false
   },
   "outputs": [
    {
     "data": {
      "text/html": [
       "<div>\n",
       "<table border=\"1\" class=\"dataframe\">\n",
       "  <thead>\n",
       "    <tr style=\"text-align: right;\">\n",
       "      <th></th>\n",
       "      <th>E0</th>\n",
       "      <th>E1</th>\n",
       "    </tr>\n",
       "    <tr>\n",
       "      <th>dist</th>\n",
       "      <th></th>\n",
       "      <th></th>\n",
       "    </tr>\n",
       "  </thead>\n",
       "  <tbody>\n",
       "    <tr>\n",
       "      <th>0.8</th>\n",
       "      <td>NaN</td>\n",
       "      <td>NaN</td>\n",
       "    </tr>\n",
       "    <tr>\n",
       "      <th>0.9</th>\n",
       "      <td>NaN</td>\n",
       "      <td>NaN</td>\n",
       "    </tr>\n",
       "    <tr>\n",
       "      <th>1.0</th>\n",
       "      <td>0.012388</td>\n",
       "      <td>0.028617</td>\n",
       "    </tr>\n",
       "    <tr>\n",
       "      <th>1.1</th>\n",
       "      <td>0.009352</td>\n",
       "      <td>0.025209</td>\n",
       "    </tr>\n",
       "    <tr>\n",
       "      <th>1.2</th>\n",
       "      <td>0.007113</td>\n",
       "      <td>0.022738</td>\n",
       "    </tr>\n",
       "  </tbody>\n",
       "</table>\n",
       "</div>"
      ],
      "text/plain": [
       "            E0        E1\n",
       "dist                    \n",
       "0.8        NaN       NaN\n",
       "0.9        NaN       NaN\n",
       "1.0   0.012388  0.028617\n",
       "1.1   0.009352  0.025209\n",
       "1.2   0.007113  0.022738"
      ]
     },
     "execution_count": 25,
     "metadata": {},
     "output_type": "execute_result"
    }
   ],
   "source": [
    "diff.head() # notice the nans are automatically taken care of"
   ]
  },
  {
   "cell_type": "code",
   "execution_count": 26,
   "metadata": {
    "collapsed": true
   },
   "outputs": [],
   "source": [
    "# you can access 'dist' with diff.index, but I like 'diff' to be a col.\n",
    "diff.reset_index(inplace=True)"
   ]
  },
  {
   "cell_type": "code",
   "execution_count": 27,
   "metadata": {
    "collapsed": false
   },
   "outputs": [
    {
     "data": {
      "text/plain": [
       "<matplotlib.legend.Legend at 0x7f3bbc228310>"
      ]
     },
     "execution_count": 27,
     "metadata": {},
     "output_type": "execute_result"
    },
    {
     "data": {
      "image/png": "[encoded data removed]",
      "text/plain": [
       "<matplotlib.figure.Figure at 0x7f3bc1830890>"
      ]
     },
     "metadata": {},
     "output_type": "display_data"
    }
   ],
   "source": [
    "# Fig. 2: visualize new data\n",
    "fig,ax = plt.subplots(1,1)\n",
    "ax.set_xlabel('r (bohr)',fontsize=16)\n",
    "ax.set_ylabel('energy (Ha)',fontsize=16)\n",
    "\n",
    "ax.plot(diff['dist'],diff['E0'],'o-',label='ground ccd-cct')\n",
    "ax.plot(diff['dist'],diff['E1'],'^-',label='excited ccd-cct')\n",
    "\n",
    "ax.legend()"
   ]
  },
  {
   "cell_type": "markdown",
   "metadata": {},
   "source": [
    "The bond distance is of type float. Sometimes the above procedure will fail when the decimals do not exactly match. In that case, you make a unique index column"
   ]
  },
  {
   "cell_type": "code",
   "execution_count": 28,
   "metadata": {
    "collapsed": false
   },
   "outputs": [],
   "source": [
    "df['dist_str'] = df['dist'].apply(lambda x:str(round(x,2)))"
   ]
  },
  {
   "cell_type": "markdown",
   "metadata": {},
   "source": [
    "## 5. exploring someone else's DataFrame"
   ]
  },
  {
   "cell_type": "markdown",
   "metadata": {},
   "source": [
    "### Convert from csv\n",
    "If data is already in a tabulated form, then pd.read_X() will read convert data from file type X to a pandas DataFrame. I usually check out the size of the table with **df.info()**. info() prints the number of rows (26729) and all column labels. **df.head()** will show the first few entries."
   ]
  },
  {
   "cell_type": "code",
   "execution_count": 29,
   "metadata": {
    "collapsed": false
   },
   "outputs": [
    {
     "name": "stdout",
     "output_type": "stream",
     "text": [
      "<class 'pandas.core.frame.DataFrame'>\n",
      "RangeIndex: 26729 entries, 0 to 26728\n",
      "Data columns (total 10 columns):\n",
      "AnimalID          26729 non-null object\n",
      "Name              19038 non-null object\n",
      "DateTime          26729 non-null object\n",
      "OutcomeType       26729 non-null object\n",
      "OutcomeSubtype    13117 non-null object\n",
      "AnimalType        26729 non-null object\n",
      "SexuponOutcome    26728 non-null object\n",
      "AgeuponOutcome    26711 non-null object\n",
      "Breed             26729 non-null object\n",
      "Color             26729 non-null object\n",
      "dtypes: object(10)\n",
      "memory usage: 2.0+ MB\n"
     ]
    },
    {
     "data": {
      "text/html": [
       "<div>\n",
       "<table border=\"1\" class=\"dataframe\">\n",
       "  <thead>\n",
       "    <tr style=\"text-align: right;\">\n",
       "      <th></th>\n",
       "      <th>AnimalID</th>\n",
       "      <th>Name</th>\n",
       "      <th>DateTime</th>\n",
       "      <th>OutcomeType</th>\n",
       "      <th>OutcomeSubtype</th>\n",
       "      <th>AnimalType</th>\n",
       "      <th>SexuponOutcome</th>\n",
       "      <th>AgeuponOutcome</th>\n",
       "      <th>Breed</th>\n",
       "      <th>Color</th>\n",
       "    </tr>\n",
       "  </thead>\n",
       "  <tbody>\n",
       "    <tr>\n",
       "      <th>0</th>\n",
       "      <td>A671945</td>\n",
       "      <td>Hambone</td>\n",
       "      <td>2014-02-12 18:22:00</td>\n",
       "      <td>Return_to_owner</td>\n",
       "      <td>NaN</td>\n",
       "      <td>Dog</td>\n",
       "      <td>Neutered Male</td>\n",
       "      <td>1 year</td>\n",
       "      <td>Shetland Sheepdog Mix</td>\n",
       "      <td>Brown/White</td>\n",
       "    </tr>\n",
       "    <tr>\n",
       "      <th>1</th>\n",
       "      <td>A656520</td>\n",
       "      <td>Emily</td>\n",
       "      <td>2013-10-13 12:44:00</td>\n",
       "      <td>Euthanasia</td>\n",
       "      <td>Suffering</td>\n",
       "      <td>Cat</td>\n",
       "      <td>Spayed Female</td>\n",
       "      <td>1 year</td>\n",
       "      <td>Domestic Shorthair Mix</td>\n",
       "      <td>Cream Tabby</td>\n",
       "    </tr>\n",
       "    <tr>\n",
       "      <th>2</th>\n",
       "      <td>A686464</td>\n",
       "      <td>Pearce</td>\n",
       "      <td>2015-01-31 12:28:00</td>\n",
       "      <td>Adoption</td>\n",
       "      <td>Foster</td>\n",
       "      <td>Dog</td>\n",
       "      <td>Neutered Male</td>\n",
       "      <td>2 years</td>\n",
       "      <td>Pit Bull Mix</td>\n",
       "      <td>Blue/White</td>\n",
       "    </tr>\n",
       "    <tr>\n",
       "      <th>3</th>\n",
       "      <td>A683430</td>\n",
       "      <td>NaN</td>\n",
       "      <td>2014-07-11 19:09:00</td>\n",
       "      <td>Transfer</td>\n",
       "      <td>Partner</td>\n",
       "      <td>Cat</td>\n",
       "      <td>Intact Male</td>\n",
       "      <td>3 weeks</td>\n",
       "      <td>Domestic Shorthair Mix</td>\n",
       "      <td>Blue Cream</td>\n",
       "    </tr>\n",
       "    <tr>\n",
       "      <th>4</th>\n",
       "      <td>A667013</td>\n",
       "      <td>NaN</td>\n",
       "      <td>2013-11-15 12:52:00</td>\n",
       "      <td>Transfer</td>\n",
       "      <td>Partner</td>\n",
       "      <td>Dog</td>\n",
       "      <td>Neutered Male</td>\n",
       "      <td>2 years</td>\n",
       "      <td>Lhasa Apso/Miniature Poodle</td>\n",
       "      <td>Tan</td>\n",
       "    </tr>\n",
       "  </tbody>\n",
       "</table>\n",
       "</div>"
      ],
      "text/plain": [
       "  AnimalID     Name             DateTime      OutcomeType OutcomeSubtype  \\\n",
       "0  A671945  Hambone  2014-02-12 18:22:00  Return_to_owner            NaN   \n",
       "1  A656520    Emily  2013-10-13 12:44:00       Euthanasia      Suffering   \n",
       "2  A686464   Pearce  2015-01-31 12:28:00         Adoption         Foster   \n",
       "3  A683430      NaN  2014-07-11 19:09:00         Transfer        Partner   \n",
       "4  A667013      NaN  2013-11-15 12:52:00         Transfer        Partner   \n",
       "\n",
       "  AnimalType SexuponOutcome AgeuponOutcome                        Breed  \\\n",
       "0        Dog  Neutered Male         1 year        Shetland Sheepdog Mix   \n",
       "1        Cat  Spayed Female         1 year       Domestic Shorthair Mix   \n",
       "2        Dog  Neutered Male        2 years                 Pit Bull Mix   \n",
       "3        Cat    Intact Male        3 weeks       Domestic Shorthair Mix   \n",
       "4        Dog  Neutered Male        2 years  Lhasa Apso/Miniature Poodle   \n",
       "\n",
       "         Color  \n",
       "0  Brown/White  \n",
       "1  Cream Tabby  \n",
       "2   Blue/White  \n",
       "3   Blue Cream  \n",
       "4          Tan  "
      ]
     },
     "execution_count": 29,
     "metadata": {},
     "output_type": "execute_result"
    }
   ],
   "source": [
    "df_animals = pd.read_csv('data/train.csv')\n",
    "df_animals.info()\n",
    "\n",
    "df_animals.columns;df_animals.index; # these can be directly modified (quick&dirty)\n",
    "#df_animals.rename(columns={'Name':'my name'},inplace=True) # cleaner rename\n",
    "\n",
    "df_animals.head()\n",
    "\n",
    "#pd.read_ # uncomment and double tap to see all the file types that can be read\n",
    "#df_animals.to_ # double tap to see all file types can be saved to"
   ]
  }
 ],
 "metadata": {
  "kernelspec": {
   "display_name": "Python 2",
   "language": "python",
   "name": "python2"
  },
  "language_info": {
   "codemirror_mode": {
    "name": "ipython",
    "version": 2
   },
   "file_extension": ".py",
   "mimetype": "text/x-python",
   "name": "python",
   "nbconvert_exporter": "python",
   "pygments_lexer": "ipython2",
   "version": "2.7.12"
  }
 },
 "nbformat": 4,
 "nbformat_minor": 0
}
