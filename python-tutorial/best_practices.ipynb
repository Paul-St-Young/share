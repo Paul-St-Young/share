{
 "cells": [
  {
   "cell_type": "markdown",
   "metadata": {},
   "source": [
    "### Best Practices for Scientific Computing\n",
    "\n",
    "Based on Greg Wilson et al.'s [paper][GPWilson] from 2014.\n",
    "\n",
    "demonstration written by Yubo \"Paul\" Yang on Nov. 28 2016\n",
    "\n",
    "last edited: Nov. 30 2016\n",
    "\n",
    "[GPWilson]: http://journals.plos.org/plosbiology/article?id=10.1371/journal.pbio.1001745"
   ]
  },
  {
   "cell_type": "code",
   "execution_count": 1,
   "metadata": {
    "collapsed": true
   },
   "outputs": [],
   "source": [
    "# what does this function do?\n",
    "def ct(t):\n",
    "    test = 0.0\n",
    "    newt = 0.0\n",
    "    \n",
    "    stuff = 0.0\n",
    "    junk = 100\n",
    "    g = t\n",
    "    while (junk>0):\n",
    "        if junk == 100:\n",
    "            for i in t:\n",
    "                test += i\n",
    "            test /= len(t)\n",
    "            for i in range(len(t)):\n",
    "                newt += (t[i]-test)*(t[i]-test)\n",
    "            newt /= (len(t)-1)\n",
    "            newt = np.sqrt(newt)\n",
    "        \n",
    "        for k in range(1,len(t)):\n",
    "            junk = 0\n",
    "            for ik in range(len(g)-k):\n",
    "                junk += (t[ik]-test)*(t[ik+k]-test)\n",
    "            if junk>0:\n",
    "                stuff += junk/((len(g)-k)*newt**2.)\n",
    "                \n",
    "    return 1+2*stuff"
   ]
  },
  {
   "cell_type": "markdown",
   "metadata": {},
   "source": [
    "#### 1. Write programs for people, not computers"
   ]
  },
  {
   "cell_type": "markdown",
   "metadata": {},
   "source": [
    "example: meaningful variables, self-contained designs, and documentation"
   ]
  },
  {
   "cell_type": "code",
   "execution_count": 2,
   "metadata": {
    "collapsed": true
   },
   "outputs": [],
   "source": [
    "import numpy as np\n",
    "def auto_corr_func(trace,k):\n",
    "    \"\"\" calculates the correlation of a trace of scalars and \n",
    "    a shifted copy of itself by k value \"\"\"\n",
    "    \n",
    "    mu  = np.mean(trace)       # mean\n",
    "    sig = np.std(trace,ddof=1) # standard deviation \n",
    "    \n",
    "    nval = len(trace)-k   # number of overlap values\n",
    "    \n",
    "    # find correlation between current and shifted traces\n",
    "    ac = 0.0 # accumulate correlation\n",
    "    for i in range(len(trace)-k):\n",
    "        ac += (trace[i]-mu)*(trace[i+k]-mu)\n",
    "    # end for i\n",
    "    ac /= (nval*sig**2.)\n",
    "    \n",
    "    return ac\n",
    "# end def auto_corr_func\n",
    "\n",
    "def auto_corr_time(trace):\n",
    "    \"\"\" calculates the auto-correlation time of a trace of scalars \"\"\"\n",
    "    \n",
    "    corr_term = 0.0\n",
    "    #  shift trace by k, and accumulate correlation until it vanishes\n",
    "    for k in range(1,len(trace)):\n",
    "        ac = auto_corr_func(trace,k)\n",
    "        if ac>0:\n",
    "            corr_term += ac\n",
    "        else:\n",
    "            break\n",
    "        # end if\n",
    "    # end for k\n",
    "    \n",
    "    corr_time = 1.0 + 2*corr_term\n",
    "    return corr_time\n",
    "# end def auto_corr_time"
   ]
  },
  {
   "cell_type": "code",
   "execution_count": 3,
   "metadata": {
    "collapsed": false
   },
   "outputs": [
    {
     "data": {
      "text/plain": [
       "9.8591282527390831"
      ]
     },
     "execution_count": 3,
     "metadata": {},
     "output_type": "execute_result"
    }
   ],
   "source": [
    "data = np.array([-9.  , -8.82, -8.66, -8.55, -8.44, -8.3 , -8.31, -8.18, -8.05,\n",
    "       -7.93, -8.01, -8.  , -7.87, -7.88, -7.87, -7.95, -7.91, -7.86,\n",
    "       -7.87, -7.82, -7.87, -7.83, -7.73, -7.8 , -7.8 , -7.78, -7.75,\n",
    "       -7.75, -7.77, -7.84, -7.87, -7.84, -7.84, -7.78, -7.79, -7.75,\n",
    "       -7.77, -7.73, -7.76, -7.76, -7.76, -7.85, -7.83, -7.79, -7.77,\n",
    "       -7.8 , -7.72, -7.61, -7.63, -7.6 ])\n",
    "auto_corr_time(data)"
   ]
  },
  {
   "cell_type": "markdown",
   "metadata": {},
   "source": [
    "counter-example: arbitrary variables, inconsistent naming, and complex design"
   ]
  },
  {
   "cell_type": "code",
   "execution_count": 4,
   "metadata": {
    "collapsed": false
   },
   "outputs": [
    {
     "data": {
      "text/plain": [
       "9.8591282527391186"
      ]
     },
     "execution_count": 4,
     "metadata": {},
     "output_type": "execute_result"
    }
   ],
   "source": [
    "# see function defined at the beginnig\n",
    "ct(data)"
   ]
  },
  {
   "cell_type": "markdown",
   "metadata": {},
   "source": [
    "correct code $\\neq$ maintainable code !"
   ]
  },
  {
   "cell_type": "markdown",
   "metadata": {},
   "source": [
    "#### 5. Plan for mistakes"
   ]
  },
  {
   "cell_type": "markdown",
   "metadata": {},
   "source": [
    "checkpoints are *executable documentations*!"
   ]
  },
  {
   "cell_type": "markdown",
   "metadata": {},
   "source": [
    "example: frequent checks, raise exceptions at the first sight of trouble"
   ]
  },
  {
   "cell_type": "code",
   "execution_count": 5,
   "metadata": {
    "collapsed": false
   },
   "outputs": [],
   "source": [
    "# parse input file\n",
    "import os\n",
    "def parse_input_with_exception(some_input_file):\n",
    "    type_dict = {\n",
    "        'src_file_loc':str,\n",
    "        'tar_file_loc':str,\n",
    "        'time_step':float,\n",
    "        'nstep':int,\n",
    "        'natom':int\n",
    "    }\n",
    "    \n",
    "    input_dict = {}\n",
    "    for line in some_input_file.strip('\\n').split('\\n'):\n",
    "        if line == '':\n",
    "            continue\n",
    "        # end if\n",
    "        \n",
    "        tokens = line.split()\n",
    "        if len(tokens) != 3:\n",
    "            raise NotImplementedError('expect \"x = y\" format, found %s'%line)\n",
    "        # end if\n",
    "        \n",
    "        name,eq,val_str = tokens\n",
    "        expected_type = type_dict[name]\n",
    "        try:\n",
    "            value = expected_type(val_str)\n",
    "        except ValueError as error:\n",
    "            raise ValueError( 'while reading \"%s\", '%name+str(error) )\n",
    "        # end if\n",
    "        \n",
    "        if name in ['nstep','natm','time_step']:\n",
    "            if value < 0:\n",
    "                raise NotImplementedError('%s must be positive'%name)\n",
    "            # end if\n",
    "        # end if\n",
    "        \n",
    "        if name.endswith('loc'):\n",
    "            found = os.path.isdir(value)\n",
    "            if not found:\n",
    "                raise NotImplementedError('%s %s not found'%(name,value))\n",
    "            # end if\n",
    "        # end if\n",
    "        input_dict[name] = value\n",
    "    # end for line\n",
    "    return input_dict\n",
    "# end def"
   ]
  },
  {
   "cell_type": "markdown",
   "metadata": {},
   "source": [
    "counter-example: relaaaxxx, it will probaly be fine (no it won't)"
   ]
  },
  {
   "cell_type": "code",
   "execution_count": 6,
   "metadata": {
    "collapsed": true
   },
   "outputs": [],
   "source": [
    "def just_parse(some_input_file):\n",
    "    type_dict = {\n",
    "        'src_file_loc':str,\n",
    "        'tar_file_loc':str,\n",
    "        'time_step':float,\n",
    "        'nstep':int,\n",
    "        'natom':int\n",
    "    }\n",
    "    \n",
    "    input_dict = {}\n",
    "    for line in some_input_file.strip('\\n').split('\\n'):\n",
    "        name,eq,val_str = line.split()\n",
    "        value = type_dict[name](val_str)\n",
    "        input_dict[name] = value\n",
    "    # end for line\n",
    "    \n",
    "    return input_dict\n",
    "# end just_parse"
   ]
  },
  {
   "cell_type": "code",
   "execution_count": 8,
   "metadata": {
    "collapsed": true
   },
   "outputs": [],
   "source": [
    "some_input_file = \"\"\"\n",
    "src_file_loc = .\n",
    "tar_file_loc = /tmp\n",
    "time_step = 0.1\n",
    "nstep     = 100\n",
    "natom     = 36\n",
    "\"\"\""
   ]
  },
  {
   "cell_type": "code",
   "execution_count": 9,
   "metadata": {
    "collapsed": false
   },
   "outputs": [
    {
     "data": {
      "text/plain": [
       "{'natom': 36,\n",
       " 'nstep': 100,\n",
       " 'src_file_loc': '.',\n",
       " 'tar_file_loc': '/tmp',\n",
       " 'time_step': 0.1}"
      ]
     },
     "execution_count": 9,
     "metadata": {},
     "output_type": "execute_result"
    }
   ],
   "source": [
    "parse_input_with_exception(some_input_file)"
   ]
  },
  {
   "cell_type": "code",
   "execution_count": 10,
   "metadata": {
    "collapsed": false
   },
   "outputs": [
    {
     "data": {
      "text/plain": [
       "{'natom': 36,\n",
       " 'nstep': 100,\n",
       " 'src_file_loc': '.',\n",
       " 'tar_file_loc': '/tmp',\n",
       " 'time_step': 0.1}"
      ]
     },
     "execution_count": 10,
     "metadata": {},
     "output_type": "execute_result"
    }
   ],
   "source": [
    "just_parse(some_input_file)"
   ]
  },
  {
   "cell_type": "code",
   "execution_count": 12,
   "metadata": {
    "collapsed": true
   },
   "outputs": [],
   "source": [
    "more_input_file = \"\"\"\n",
    "src_file_loc = .\n",
    "tar_file_loc = /tmp\n",
    "time_step = 0.1\n",
    "nstep     = -99999999\n",
    "natom     = 36\n",
    "\"\"\""
   ]
  },
  {
   "cell_type": "code",
   "execution_count": 13,
   "metadata": {
    "collapsed": false
   },
   "outputs": [
    {
     "ename": "NotImplementedError",
     "evalue": "nstep must be positive",
     "output_type": "error",
     "traceback": [
      "\u001b[1;31m---------------------------------------------------------------------------\u001b[0m",
      "\u001b[1;31mNotImplementedError\u001b[0m                       Traceback (most recent call last)",
      "\u001b[1;32m<ipython-input-13-a34344005ff0>\u001b[0m in \u001b[0;36m<module>\u001b[1;34m()\u001b[0m\n\u001b[1;32m----> 1\u001b[1;33m \u001b[0mparse_input_with_exception\u001b[0m\u001b[1;33m(\u001b[0m\u001b[0mmore_input_file\u001b[0m\u001b[1;33m)\u001b[0m\u001b[1;33m\u001b[0m\u001b[0m\n\u001b[0m",
      "\u001b[1;32m<ipython-input-5-4cb8d057d3c0>\u001b[0m in \u001b[0;36mparse_input_with_exception\u001b[1;34m(some_input_file)\u001b[0m\n\u001b[0;32m     31\u001b[0m         \u001b[1;32mif\u001b[0m \u001b[0mname\u001b[0m \u001b[1;32min\u001b[0m \u001b[1;33m[\u001b[0m\u001b[1;34m'nstep'\u001b[0m\u001b[1;33m,\u001b[0m\u001b[1;34m'natm'\u001b[0m\u001b[1;33m,\u001b[0m\u001b[1;34m'time_step'\u001b[0m\u001b[1;33m]\u001b[0m\u001b[1;33m:\u001b[0m\u001b[1;33m\u001b[0m\u001b[0m\n\u001b[0;32m     32\u001b[0m             \u001b[1;32mif\u001b[0m \u001b[0mvalue\u001b[0m \u001b[1;33m<\u001b[0m \u001b[1;36m0\u001b[0m\u001b[1;33m:\u001b[0m\u001b[1;33m\u001b[0m\u001b[0m\n\u001b[1;32m---> 33\u001b[1;33m                 \u001b[1;32mraise\u001b[0m \u001b[0mNotImplementedError\u001b[0m\u001b[1;33m(\u001b[0m\u001b[1;34m'%s must be positive'\u001b[0m\u001b[1;33m%\u001b[0m\u001b[0mname\u001b[0m\u001b[1;33m)\u001b[0m\u001b[1;33m\u001b[0m\u001b[0m\n\u001b[0m\u001b[0;32m     34\u001b[0m             \u001b[1;31m# end if\u001b[0m\u001b[1;33m\u001b[0m\u001b[1;33m\u001b[0m\u001b[0m\n\u001b[0;32m     35\u001b[0m         \u001b[1;31m# end if\u001b[0m\u001b[1;33m\u001b[0m\u001b[1;33m\u001b[0m\u001b[0m\n",
      "\u001b[1;31mNotImplementedError\u001b[0m: nstep must be positive"
     ]
    }
   ],
   "source": [
    "parse_input_with_exception(more_input_file)"
   ]
  },
  {
   "cell_type": "code",
   "execution_count": 14,
   "metadata": {
    "collapsed": false
   },
   "outputs": [
    {
     "data": {
      "text/plain": [
       "{'natom': 36,\n",
       " 'nstep': -99999999,\n",
       " 'src_file_loc': '.',\n",
       " 'tar_file_loc': '/tmp',\n",
       " 'time_step': 0.1}"
      ]
     },
     "execution_count": 14,
     "metadata": {},
     "output_type": "execute_result"
    }
   ],
   "source": [
    "just_parse(more_input_file)\n",
    "# good luck terminating your while loop"
   ]
  },
  {
   "cell_type": "markdown",
   "metadata": {},
   "source": [
    "```python\n",
    "while (istep != nstep):\n",
    "    istep += 1\n",
    "```"
   ]
  },
  {
   "cell_type": "markdown",
   "metadata": {},
   "source": [
    "second layer of defense is automatic testing, turn bugs into test cases"
   ]
  },
  {
   "cell_type": "markdown",
   "metadata": {},
   "source": [
    "use a symbolic debugger: interactive inspection\n",
    "\n",
    "print statments: dump -> analyze -> infer"
   ]
  },
  {
   "cell_type": "markdown",
   "metadata": {},
   "source": [
    "```bash\n",
    "python -m pdb myscript.py\n",
    "pdb> \n",
    "```"
   ]
  },
  {
   "cell_type": "markdown",
   "metadata": {},
   "source": [
    "```bash\n",
    "gdb ./myexec\n",
    "gdb> run input.txt\n",
    "```"
   ]
  },
  {
   "cell_type": "markdown",
   "metadata": {},
   "source": [
    "basic debugger commands\n",
    "1. next: n\n",
    "2. step: s 10\n",
    "3. backtrace: bt\n",
    "4. break\n",
    "5. list\n",
    "5. break if i==0\n",
    "6. tell\n",
    "7. return"
   ]
  },
  {
   "cell_type": "markdown",
   "metadata": {},
   "source": [
    "#### 2. Let the computer do the work"
   ]
  },
  {
   "cell_type": "markdown",
   "metadata": {},
   "source": [
    "example: use for loops for parameter scan"
   ]
  },
  {
   "cell_type": "markdown",
   "metadata": {
    "collapsed": true
   },
   "source": [
    "```bash\n",
    "cwd=`pwd`\n",
    "for folder in `ls | grep param_name`; do\n",
    "  cd $folder\n",
    "  ./run_my_script\n",
    "  cd $cwd\n",
    "done\n",
    "```"
   ]
  },
  {
   "cell_type": "markdown",
   "metadata": {},
   "source": [
    "python subprocess is your friend!"
   ]
  },
  {
   "cell_type": "markdown",
   "metadata": {},
   "source": [
    "```python\n",
    "import subprocess as sp\n",
    "proc = sp.Popen('ls | grep param_name',stdout=sp.PIPE,stderr=sp.PIPE,shell=True)\n",
    "out,err = proc.communicate()\n",
    "\n",
    "folders = out.strip('\\n').split('\\n')\n",
    "if len(folders)==0:\n",
    "  raise IOError('no folders found')\n",
    "# end if\n",
    "\n",
    "for folder in folders:\n",
    "  pass # do something crazy!\n",
    "# end for\n",
    "```"
   ]
  },
  {
   "cell_type": "markdown",
   "metadata": {},
   "source": [
    "counter-example: Excel sheet"
   ]
  },
  {
   "cell_type": "markdown",
   "metadata": {},
   "source": [
    "use a workflow tool: make, IPython/Jupyter"
   ]
  },
  {
   "cell_type": "markdown",
   "metadata": {},
   "source": [
    "#### 3. Make incremental changes"
   ]
  },
  {
   "cell_type": "markdown",
   "metadata": {},
   "source": [
    "example: "
   ]
  },
  {
   "cell_type": "markdown",
   "metadata": {},
   "source": [
    "GitHub, BitBucket, Source Forge, and Google Code"
   ]
  },
  {
   "cell_type": "markdown",
   "metadata": {},
   "source": [
    "counter-example:"
   ]
  },
  {
   "cell_type": "markdown",
   "metadata": {},
   "source": [
    "DropBox, Email"
   ]
  },
  {
   "cell_type": "markdown",
   "metadata": {},
   "source": [
    "#### 4. Don't repeat yourself or others"
   ]
  },
  {
   "cell_type": "markdown",
   "metadata": {},
   "source": [
    "[DRY Principle][DRY]\n",
    "[DRY]:https://pragprog.com/book/tpp/the-pragmatic-programmer"
   ]
  },
  {
   "cell_type": "markdown",
   "metadata": {},
   "source": [
    "example: modularize code into functions for reuse, use high-quality libraries"
   ]
  },
  {
   "cell_type": "markdown",
   "metadata": {},
   "source": [
    "counter-example: copy and paste code, and rewrite standard libraries"
   ]
  },
  {
   "cell_type": "markdown",
   "metadata": {},
   "source": [
    "Libraries:\n",
    "1. Numerical Integration\n",
    "2. Linear Algebra Operations and Solvers\n",
    "3. Standard Optimization Routines"
   ]
  },
  {
   "cell_type": "markdown",
   "metadata": {},
   "source": [
    "dependency blow-up? -> docker"
   ]
  },
  {
   "cell_type": "markdown",
   "metadata": {},
   "source": [
    "#### 6. Make working code, then, and **ONLY** then optimize"
   ]
  },
  {
   "cell_type": "markdown",
   "metadata": {},
   "source": [
    "It is hard to predict where a code would be the slowest."
   ]
  },
  {
   "cell_type": "code",
   "execution_count": 15,
   "metadata": {
    "collapsed": true
   },
   "outputs": [],
   "source": [
    "# exact diagonalization example\n",
    "#  1. matrix construction vs. matrix diagonalization\n",
    "#  2. locate matrix element vs. calculate matrix element"
   ]
  },
  {
   "cell_type": "markdown",
   "metadata": {},
   "source": [
    "#### 7. Document design and purpose, not mechanics"
   ]
  },
  {
   "cell_type": "markdown",
   "metadata": {},
   "source": [
    "example:\n",
    "```python\n",
    "def scan(op, values, seed=None):\n",
    "    \"\"\" Apply a binary operator cumulatively to the values given \n",
    "     from lowest to highest, returning a list of results.\n",
    "     For example, if 'op' is 'add' and 'values' is [1,3,5], the \n",
    "     result is [1,4,9] (i:e:, the running total of the \n",
    "     given values): The result always has the same length as \n",
    "     the input.\n",
    "     If 'seed' is given, the result is initialized with that\n",
    "     value instead of with the first item in 'value', and\n",
    "     the final item is omitted from the result.\n",
    "     Ex : scan(add,[1, 3, 5], seed=10)\n",
    "     produces [10, 11, 14]\n",
    "     \"\"\"\n",
    "     pass # implementation\n",
    "# end def\n",
    "```"
   ]
  },
  {
   "cell_type": "markdown",
   "metadata": {},
   "source": [
    "counter-example:"
   ]
  },
  {
   "cell_type": "markdown",
   "metadata": {},
   "source": [
    "```python \n",
    "i += 1 # increament the value of 'i' by 1\n",
    "```"
   ]
  },
  {
   "cell_type": "markdown",
   "metadata": {},
   "source": [
    "#### 8. Collaborate"
   ]
  },
  {
   "cell_type": "markdown",
   "metadata": {},
   "source": [
    "1. pre-merge code review\n",
    "eg. GitHub pull request\n",
    "2. pair programming\n",
    "programmer vs. test engineer (builder vs. breaker)\n",
    "3. issue tracking"
   ]
  },
  {
   "cell_type": "markdown",
   "metadata": {},
   "source": [
    "### Conclusions"
   ]
  },
  {
   "cell_type": "markdown",
   "metadata": {},
   "source": [
    "1. Be nice! (1,5,7)\n",
    "2. Use Git and use it well! (3,6,8)\n",
    "3. Steal and modularize! (2,4)"
   ]
  },
  {
   "cell_type": "markdown",
   "metadata": {},
   "source": [
    "### Further Reading"
   ]
  },
  {
   "cell_type": "markdown",
   "metadata": {},
   "source": [
    "1. Micheal C. Feathers, \"Working Effectively with Legacy Code,\" [ISBN 978-0131177055][legacy]\n",
    "2. Robert C. Martin, \"Clean Code: A Handbook of Agile Software Craftsmanship,\", [ISBN 978-0132350884][clean]\n",
    "\n",
    "[legacy]:http://wiki.c2.com/?WorkingEffectivelyWithLegacyCode\n",
    "[clean]:https://www.amazon.com/Clean-Code-Handbook-Software-Craftsmanship/dp/0132350882"
   ]
  },
  {
   "cell_type": "markdown",
   "metadata": {},
   "source": [
    "### Useful Code Project Templates"
   ]
  },
  {
   "cell_type": "markdown",
   "metadata": {},
   "source": [
    "1. [shabola][shabola]\n",
    "2. [cookiecutter][cookie]\n",
    "[shabola]:https://github.com/uwescience/shablona\n",
    "[cookie]:https://github.com/audreyr/cookiecutter"
   ]
  }
 ],
 "metadata": {
  "kernelspec": {
   "display_name": "Python 2",
   "language": "python",
   "name": "python2"
  },
  "language_info": {
   "codemirror_mode": {
    "name": "ipython",
    "version": 2
   },
   "file_extension": ".py",
   "mimetype": "text/x-python",
   "name": "python",
   "nbconvert_exporter": "python",
   "pygments_lexer": "ipython2",
   "version": "2.7.12"
  }
 },
 "nbformat": 4,
 "nbformat_minor": 0
}
