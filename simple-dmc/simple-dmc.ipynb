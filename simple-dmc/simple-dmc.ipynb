{
 "cells": [
  {
   "cell_type": "code",
   "execution_count": 31,
   "metadata": {
    "collapsed": false
   },
   "outputs": [],
   "source": [
    "import numpy as np\n",
    "import scipy.optimize as op\n",
    "import matplotlib.pyplot as plt\n",
    "%matplotlib inline"
   ]
  },
  {
   "cell_type": "code",
   "execution_count": 32,
   "metadata": {
    "collapsed": true
   },
   "outputs": [],
   "source": [
    "def potential(x):\n",
    "    return x**2.\n",
    "# end def "
   ]
  },
  {
   "cell_type": "code",
   "execution_count": 33,
   "metadata": {
    "collapsed": true
   },
   "outputs": [],
   "source": [
    "# initialize walkers\n",
    "num_walkers = 4000\n",
    "\n",
    "walkers = np.random.rand(num_walkers)\n",
    "weights = np.ones(len(walkers))\n",
    "\n",
    "# define DMC\n",
    "nsteps = 1000\n",
    "tau = 0.003\n",
    "\n",
    "energy_trace = np.zeros(nsteps)\n",
    "walker_trace = np.zeros([num_walkers,nsteps])\n",
    "for istep in range(nsteps):\n",
    "    walker_trace[:,istep] = np.copy(walkers)\n",
    "    walkers += np.sqrt(tau)*np.random.randn(len(walkers))\n",
    "    weights *= np.exp(-potential(walkers)*tau)\n",
    "    energy_trace[istep] = (potential(walkers)*weights).mean()/sum(weights)\n",
    "# end for istep"
   ]
  },
  {
   "cell_type": "code",
   "execution_count": 34,
   "metadata": {
    "collapsed": false
   },
   "outputs": [
    {
     "data": {
      "text/plain": [
       "[<matplotlib.lines.Line2D at 0x7f930cb66940>]"
      ]
     },
     "execution_count": 34,
     "metadata": {},
     "output_type": "execute_result"
    },
    {
     "data": {
      "image/png": "[encoded data removed]",
      "text/plain": [
       "<matplotlib.figure.Figure at 0x7f930cbc3c50>"
      ]
     },
     "metadata": {},
     "output_type": "display_data"
    }
   ],
   "source": [
    "plt.plot(energy_trace)"
   ]
  },
  {
   "cell_type": "code",
   "execution_count": 35,
   "metadata": {
    "collapsed": true
   },
   "outputs": [],
   "source": [
    "equil = walker_trace[:,600:]\n",
    "equil = equil.reshape(len(equil)*len(equil[0]))"
   ]
  },
  {
   "cell_type": "code",
   "execution_count": 36,
   "metadata": {
    "collapsed": false
   },
   "outputs": [
    {
     "data": {
      "text/plain": [
       "[<matplotlib.lines.Line2D at 0x7f930cac8748>]"
      ]
     },
     "execution_count": 36,
     "metadata": {},
     "output_type": "execute_result"
    },
    {
     "data": {
      "image/png": "[encoded data removed]",
      "text/plain": [
       "<matplotlib.figure.Figure at 0x7f930cc365c0>"
      ]
     },
     "metadata": {},
     "output_type": "display_data"
    }
   ],
   "source": [
    "ncounters = 17\n",
    "bins = np.linspace(-4,4,ncounters + 1)\n",
    "counters = np.zeros(ncounters)\n",
    "\n",
    "for i in range(len(counters)):\n",
    "    for j in range(len(walkers)):\n",
    "        walker = walkers[j]\n",
    "        if walker > bins[i] and walker <= bins[i+1]:\n",
    "            counters[i] += weights[j]\n",
    "        # end if\n",
    "    # end for j\n",
    "# end for i   \n",
    "\n",
    "dx = bins[1]-bins[0]\n",
    "xgrid = bins[:-1]+dx/2.\n",
    "plt.plot(xgrid,counters,\"x\")"
   ]
  },
  {
   "cell_type": "code",
   "execution_count": 37,
   "metadata": {
    "collapsed": false
   },
   "outputs": [],
   "source": [
    "def gauss_1d(x,A,a,xo):\n",
    "    return A*np.exp(-a*(x-xo)**2.)\n",
    "# end def gauss_1d\n",
    "popt,pcov = op.curve_fit(gauss_1d,xgrid,counters,p0=[25,1,0.5])"
   ]
  },
  {
   "cell_type": "code",
   "execution_count": 38,
   "metadata": {
    "collapsed": false
   },
   "outputs": [
    {
     "data": {
      "text/plain": [
       "[<matplotlib.lines.Line2D at 0x7f930cc491d0>]"
      ]
     },
     "execution_count": 38,
     "metadata": {},
     "output_type": "execute_result"
    },
    {
     "data": {
      "image/png": "[encoded data removed]",
      "text/plain": [
       "<matplotlib.figure.Figure at 0x7f930cc493c8>"
      ]
     },
     "metadata": {},
     "output_type": "display_data"
    }
   ],
   "source": [
    "plt.plot(xgrid,gauss_1d(xgrid,*popt))\n",
    "plt.plot(xgrid,counters,\"x\")"
   ]
  },
  {
   "cell_type": "code",
   "execution_count": 39,
   "metadata": {
    "collapsed": false
   },
   "outputs": [
    {
     "data": {
      "text/plain": [
       "0.68539864303695475"
      ]
     },
     "execution_count": 39,
     "metadata": {},
     "output_type": "execute_result"
    }
   ],
   "source": [
    "popt[1]"
   ]
  },
  {
   "cell_type": "code",
   "execution_count": 40,
   "metadata": {
    "collapsed": false
   },
   "outputs": [
    {
     "data": {
      "text/plain": [
       "0.70710678118654746"
      ]
     },
     "execution_count": 40,
     "metadata": {},
     "output_type": "execute_result"
    }
   ],
   "source": [
    "1/np.sqrt(2)"
   ]
  },
  {
   "cell_type": "code",
   "execution_count": null,
   "metadata": {
    "collapsed": true
   },
   "outputs": [],
   "source": []
  }
 ],
 "metadata": {
  "kernelspec": {
   "display_name": "Python 3",
   "language": "python",
   "name": "python3"
  },
  "language_info": {
   "codemirror_mode": {
    "name": "ipython",
    "version": 3
   },
   "file_extension": ".py",
   "mimetype": "text/x-python",
   "name": "python",
   "nbconvert_exporter": "python",
   "pygments_lexer": "ipython3",
   "version": "3.5.1+"
  }
 },
 "nbformat": 4,
 "nbformat_minor": 0
}
